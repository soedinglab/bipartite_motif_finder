{
 "cells": [
  {
   "cell_type": "markdown",
   "metadata": {},
   "source": [
    "# Plot the retrieved motifs from HT-SELEX dataset"
   ]
  },
  {
   "cell_type": "code",
   "execution_count": 1,
   "metadata": {},
   "outputs": [],
   "source": [
    "%matplotlib inline\n",
    "import numpy as np\n",
    "from matplotlib import pyplot as plt\n",
    "import os\n",
    "from os.path import isfile, join\n",
    "from itertools import compress\n",
    "import itertools\n",
    "import pandas as pd\n",
    "import seaborn as sns\n",
    "import matplotlib.backends.backend_pdf\n",
    "from scipy.stats import nbinom, sem, t\n",
    "from matplotlib.lines import Line2D"
   ]
  },
  {
   "cell_type": "markdown",
   "metadata": {},
   "source": [
    "## helper functions"
   ]
  },
  {
   "cell_type": "code",
   "execution_count": 2,
   "metadata": {},
   "outputs": [],
   "source": [
    "def generate_kmer_inx(l = 3):\n",
    "    vals = {'A':0,'C':1,'G':2,'U':3}\n",
    "    kmer_inx = {}\n",
    "    for p in list(itertools.product(vals.keys(), repeat=l)):\n",
    "        inx = 0\n",
    "        for j,base in enumerate(p):\n",
    "            inx += (4**j)*vals[base] \n",
    "        kmer_inx[''.join(p)] = inx\n",
    "    return kmer_inx"
   ]
  },
  {
   "cell_type": "code",
   "execution_count": 3,
   "metadata": {},
   "outputs": [],
   "source": [
    "#reads the np.array files and extract the parameters\n",
    "#the distance parameters (last 3) are exp'ed to stay positive\n",
    "def read_params(files):\n",
    "    n_additional = 1 #non parameters saved at the end\n",
    "    n_exped = 3 #parameters kept positive through log exp trick\n",
    "    params = []\n",
    "    for f in files:\n",
    "        param = np.loadtxt(join(param_dir, f))\n",
    "        param[-n_additional-n_exped:-n_additional] = np.exp(param[-n_additional-n_exped:-n_additional])\n",
    "        param[-n_additional-1] = param[-n_additional-1]/(1+param[-n_additional-1])\n",
    "        params.append(param)      \n",
    "    return params"
   ]
  },
  {
   "cell_type": "markdown",
   "metadata": {},
   "source": [
    "## plotting functions"
   ]
  },
  {
   "cell_type": "code",
   "execution_count": 32,
   "metadata": {},
   "outputs": [],
   "source": [
    "def plot_core_logo(data, ax, color_scheme):\n",
    "    k=len(data[0][0])\n",
    "    scalings = [d[1] for d in data]\n",
    "    total = 1\n",
    "    font_prop = matplotlib.font_manager.FontProperties(family=\"sans-serif\", weight=\"bold\")\n",
    "\n",
    "    letter_heights = {}\n",
    "    letter_widths = {}\n",
    "    for l in \"ACGTU\":\n",
    "        lp = matplotlib.textpath.TextPath((0,0), l, size=20, prop=font_prop)\n",
    "        ext = lp.get_extents()\n",
    "        letter_heights[l] = ext.y1 - ext.y0\n",
    "        letter_widths[l] = ext.x1 - ext.x0\n",
    "    max_letter_height = max(letter_heights.values())\n",
    "    max_letter_width = max(letter_widths.values())\n",
    "\n",
    "    letter_scalings = {k:max_letter_height/v for k,v in letter_heights.items()}\n",
    "\n",
    "    indiv_yscaling = {}\n",
    "    paths = []\n",
    "    for kmer, scaling in data:\n",
    "        row = []\n",
    "        for letter in kmer:\n",
    "            txt = matplotlib.textpath.TextPath((0,0), letter, size=20, prop=font_prop)\n",
    "            txt._letter = letter\n",
    "            row.append(txt)\n",
    "        paths.append(row)\n",
    "\n",
    "    scaled_height = total * max_letter_height\n",
    "\n",
    "    transformed_paths = []\n",
    "    cur_top = 0\n",
    "    row_no = 0\n",
    "    for row_paths, scaling in zip(paths, scalings):\n",
    "        row_no += 1\n",
    "        cur_x = 0\n",
    "        for i, path in enumerate(row_paths): \n",
    "            sy = scaling/scaled_height * letter_scalings[path._letter]\n",
    "            sx = 0.03\n",
    "            path_t = path.transformed(matplotlib.transforms.Affine2D().scale(sx=sx, sy=sy).translate(tx=cur_x, ty=cur_top))\n",
    "            path_t._letter = path._letter\n",
    "            transformed_paths.append(path_t)\n",
    "            ext = path_t.get_extents()\n",
    "            cur_x += max_letter_width*sx#(ext.x1 - ext.x0)* 1.1\n",
    "        \n",
    "        if False: #row_no%2 == 0:\n",
    "            x0 = 0\n",
    "            x1 = cur_x\n",
    "            y0 = cur_top\n",
    "            y1 = cur_top + ext.y1 - ext.y0\n",
    "            ax.add_patch(matplotlib.patches.Rectangle((x0, y0),x1-x0, y1-y0, facecolor='grey', alpha=0.7))\n",
    "        \n",
    "        cur_top += ext.y1 - ext.y0\n",
    "\n",
    "    \n",
    "    for path in transformed_paths:\n",
    "        obj = matplotlib.patches.PathPatch(path, edgecolor=\"black\", facecolor=color_scheme[path._letter], lw=0.5)\n",
    "        ext = path_t.get_extents()     \n",
    "        ax.add_patch(obj)\n",
    "\n",
    "    ax.set_ylim(0, 1)\n",
    "    ax.set_xlim(0, k/2)\n",
    "    ax.get_xaxis().set_visible(False)\n",
    "    sns.despine(ax=ax, trim=True)"
   ]
  },
  {
   "cell_type": "code",
   "execution_count": 25,
   "metadata": {},
   "outputs": [
    {
     "data": {
      "image/png": "[encoded data removed]",
      "text/plain": [
       "<Figure size 324x108 with 1 Axes>"
      ]
     },
     "metadata": {},
     "output_type": "display_data"
    }
   ],
   "source": [
    "data = [('AAA',0.3),('TCG',0.4),('GGG',0.1)]\n",
    "color_scheme = {'G': 'orange', \n",
    "                        'A': 'red', \n",
    "                        'C': 'blue', \n",
    "                        'T': 'darkgreen',\n",
    "                        'U': 'darkgreen'\n",
    "                       }\n",
    "fig, ax = plt.subplots(figsize=(4.5,1.5))\n",
    "plot_core_logo(data, ax, color_scheme)"
   ]
  },
  {
   "cell_type": "code",
   "execution_count": 5,
   "metadata": {},
   "outputs": [],
   "source": [
    "def energy2prob(energy_series, top_n=5):\n",
    "    \n",
    "    probabilities = np.exp(-energy_series)/np.sum(np.exp(-energy_series))\n",
    "    probabilities_sorted = probabilities.sort_values(ascending=False)\n",
    "    \n",
    "    top_kmers = probabilities_sorted[:top_n]\n",
    "    top_kmers_formatted = [(inx, val) for inx, val in zip(top_kmers.index, top_kmers.values)]\n",
    "    return top_kmers_formatted"
   ]
  },
  {
   "cell_type": "code",
   "execution_count": 6,
   "metadata": {},
   "outputs": [],
   "source": [
    "def plot_logos(keywords, param_dir, file_name='HTSELEX_logos.pdf', figwidth=4.5):\n",
    "    \n",
    "    fig, axes = plt.subplots(len(keywords),3, figsize=(figwidth, len(keywords)*2.2))\n",
    "    plt.subplots_adjust(hspace=0.7)\n",
    "    \n",
    "    for i, keyw in enumerate(keywords):\n",
    "        ax1, ax2, ax3 = axes[i]\n",
    "        \n",
    "        #read param files\n",
    "        keyw = keywords[i]  #the keyword which assigns the files to a batch\n",
    "        param_files = [f for f in os.listdir(param_dir) if isfile(join(param_dir, f))]\n",
    "\n",
    "        to_pick = [s.startswith(keyw) & s.endswith('.txt') for s in param_files]\n",
    "        param_files = list(compress(param_files, to_pick))\n",
    "        adam_params = read_params(param_files)\n",
    "\n",
    "\n",
    "        colnames = [inx_kmer[i] for i in range(len(inx_kmer))] + [inx_kmer[i] for i in range(len(inx_kmer))] + ['sf', 'r', 'p'] + ['LL']\n",
    "        data = pd.DataFrame(adam_params, columns=colnames)\n",
    "        core1 = data.sort_values(by='LL').iloc[0,:len(kmer_inx)]\n",
    "        core1_probs = energy2prob(core1, top_n=8)\n",
    "\n",
    "        core2 = data.sort_values(by='LL').iloc[0,len(kmer_inx):2*len(kmer_inx)]\n",
    "        core2_probs = energy2prob(core2, top_n=8)\n",
    "\n",
    "        r = data.sort_values(by='LL')['r'].values[0]\n",
    "        p = data.sort_values(by='LL')['p'].values[0]\n",
    "\n",
    "        sns.set_style(\"ticks\")\n",
    "        sns.despine(trim=True)\n",
    "\n",
    "        COLOR_SCHEME = {'G': 'orange', \n",
    "                        'A': 'red', \n",
    "                        'C': 'blue', \n",
    "                        'T': 'darkgreen',\n",
    "                        'U': 'darkgreen'\n",
    "                       }\n",
    "\n",
    "        plot_core_logo(core1_probs, ax1, color_scheme=COLOR_SCHEME)\n",
    "        plot_core_logo(core2_probs, ax3, color_scheme=COLOR_SCHEME)\n",
    "\n",
    "        #plot distance\n",
    "        mean = ((1-p)*r)/(p)\n",
    "        xx = np.arange(0,int(mean)+8,1)\n",
    "\n",
    "        _ = ax2.plot(xx, nbinom.pmf(xx, r, p), 'o--',alpha=0.7, color='black')\n",
    "        _ = ax2.set_xlabel('distance')\n",
    "\n",
    "        #not show y axis in the plot\n",
    "        ax2.set_frame_on(False)\n",
    "        _ = ax2.get_yaxis().set_visible(False)\n",
    "        xmin, xmax = ax2.get_xaxis().get_view_interval()\n",
    "        ymin, ymax = ax2.get_yaxis().get_view_interval()\n",
    "        ax2.add_artist(Line2D((xmin, xmax), (ymin, ymin), color='black', linewidth=2))\n",
    "\n",
    "        ax2.xaxis.set_major_locator(matplotlib.ticker.AutoLocator())\n",
    "\n",
    "        _ = ax1.set_yticks(range(0,2))\n",
    "        _ = ax1.set_yticklabels(np.arange(0,2,1))\n",
    "\n",
    "        _ = ax3.set_yticks(range(0,2))\n",
    "        _ = ax3.set_yticklabels(np.arange(0,2,1))\n",
    "\n",
    "        _ = ax3.get_xaxis().set_visible(False)\n",
    "        _ = ax1.set_ylabel('probability')\n",
    "        sns.despine(ax=ax2, trim=True)\n",
    "        sns.despine(ax=ax3, trim=True)\n",
    "        \n",
    "        ax1.text(-1,0.5, keyw.split('-')[0], fontsize=14, fontweight='bold', verticalalignment='center',horizontalalignment='right')\n",
    "\n",
    "    plt.savefig(file_name, bbox_inches='tight')"
   ]
  },
  {
   "cell_type": "markdown",
   "metadata": {},
   "source": [
    "## read files"
   ]
  },
  {
   "cell_type": "code",
   "execution_count": 26,
   "metadata": {},
   "outputs": [],
   "source": [
    "#assignes each kmer to an index and visa versa\n",
    "k=3\n",
    "kmer_inx = generate_kmer_inx(l=k)\n",
    "inx_kmer = {y:x for x,y in kmer_inx.items()}\n",
    "\n",
    "file_table = pd.read_csv('htselex_ps_and_bg.txt', sep='\\t', header=None)\n",
    "factors_all = file_table.iloc[:,0].values\n",
    "\n",
    "param_dir = f'param/selex/benchmark_selex_cs{k}/'\n",
    "plot_dir = 'htselex'"
   ]
  },
  {
   "cell_type": "markdown",
   "metadata": {},
   "source": [
    "## Logo Plots"
   ]
  },
  {
   "cell_type": "code",
   "execution_count": null,
   "metadata": {},
   "outputs": [],
   "source": [
    "plot_logos(factors_all, param_dir, file_name=os.path.join(plot_dir, f'HTSELEX_cs{k}_adjacentcycles_all_logos.pdf'), figwidth=6)"
   ]
  },
  {
   "cell_type": "markdown",
   "metadata": {},
   "source": [
    "# NB plot"
   ]
  },
  {
   "cell_type": "code",
   "execution_count": 632,
   "metadata": {},
   "outputs": [],
   "source": [
    "#structure data as pandas DF\n",
    "colnames = [inx_kmer[i] for i in range(len(inx_kmer))] + [inx_kmer[i] for i in range(len(inx_kmer))] + ['sf', 'r', 'p'] + ['LL']\n",
    "\n",
    "data = pd.DataFrame(adam_params, columns=colnames)\n",
    "core1 = data.iloc[:,:len(kmer_inx)]\n",
    "core1 = core1.loc[:,core1.median().sort_values().index]\n",
    "core2 = data.iloc[:,len(kmer_inx):2*len(kmer_inx)]\n",
    "core2 = core2.loc[:,core2.median().sort_values().index]"
   ]
  },
  {
   "cell_type": "code",
   "execution_count": null,
   "metadata": {},
   "outputs": [],
   "source": [
    "pdf = matplotlib.backends.backend_pdf.PdfPages(os.path.join(plot_dir,f'{keyw}_motif.pdf'))\n",
    "\n",
    "#=== plot motifs =================\n",
    "fig, (ax1,ax2) = plt.subplots(2,1, figsize=(12,8))\n",
    "plt.subplots_adjust(hspace=0.3)\n",
    "\n",
    "core1.boxplot(ax=ax1, rot=90)\n",
    "ax1.set_title('Core I', fontsize=12)\n",
    "ax1.set_ylabel('binding energy (KbT)', fontsize=12)\n",
    "\n",
    "core2.boxplot(ax=ax2, rot=90)\n",
    "ax2.set_title('Core II', fontsize=12)\n",
    "ax2.set_ylabel('binding energy (KbT)', fontsize=12)\n",
    "\n",
    "pdf.savefig(fig)\n",
    "\n",
    "#=====================\n",
    "\n",
    "r = data.sort_values(by='LL')['r'].values\n",
    "p = data.sort_values(by='LL')['p'].values\n",
    "ll = -data.sort_values(by='LL')['LL'].values\n",
    "\n",
    "#== plot distance distributions =================\n",
    "\n",
    "fig, ax = plt.subplots(figsize=(5,3))\n",
    "\n",
    "xx = np.arange(35)\n",
    "cmap = matplotlib.cm.get_cmap('RdBu_r')\n",
    "colors = (ll-min(ll))/(max(ll)-min(ll))\n",
    "colors = [cmap(c) for c in colors]\n",
    "\n",
    "for i in range(len(r)):\n",
    "    ax.plot(xx, nbinom.pmf(xx, r[i], p[i]), alpha=0.7, color=colors[i], linestyle='--', label=f'LL={ll[i]:.1f}')\n",
    "\n",
    "ax.legend()    \n",
    "ax.set_xlabel('distance')\n",
    "ax.set_ylabel('pmf')\n",
    "pdf.savefig(fig)\n",
    "\n",
    "pdf.close()"
   ]
  }
 ],
 "metadata": {
  "kernelspec": {
   "display_name": "Python [conda env:rbp_motif]",
   "language": "python",
   "name": "conda-env-rbp_motif-py"
  },
  "language_info": {
   "codemirror_mode": {
    "name": "ipython",
    "version": 3
   },
   "file_extension": ".py",
   "mimetype": "text/x-python",
   "name": "python",
   "nbconvert_exporter": "python",
   "pygments_lexer": "ipython3",
   "version": "3.6.7"
  }
 },
 "nbformat": 4,
 "nbformat_minor": 4
}
