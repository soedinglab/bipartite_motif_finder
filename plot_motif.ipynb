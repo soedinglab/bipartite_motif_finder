{
 "cells": [
  {
   "cell_type": "markdown",
   "metadata": {},
   "source": [
    "# Plot the retrieved motifs"
   ]
  },
  {
   "cell_type": "code",
   "execution_count": 1,
   "metadata": {},
   "outputs": [],
   "source": [
    "import numpy as np\n",
    "from matplotlib import pyplot as plt\n",
    "import os\n",
    "from os.path import isfile, join\n",
    "from itertools import compress\n",
    "import itertools\n",
    "import pandas as pd\n",
    "import seaborn as sns\n",
    "import matplotlib.backends.backend_pdf"
   ]
  },
  {
   "cell_type": "markdown",
   "metadata": {},
   "source": [
    "### helper functions"
   ]
  },
  {
   "cell_type": "code",
   "execution_count": 2,
   "metadata": {},
   "outputs": [],
   "source": [
    "def generate_kmer_inx():\n",
    "    vals = {'A':0,'C':1,'G':2,'T':3}\n",
    "    #vals = {0:'A', 1:'C', 2:'G', 3:'T'}\n",
    "    kmer_inx = {}\n",
    "    for p in list(itertools.product(vals.keys(), repeat=l)):\n",
    "        inx = 0\n",
    "        for j,base in enumerate(p):\n",
    "            inx += (4**j)*vals[base] \n",
    "        kmer_inx[''.join(p)] = inx\n",
    "    return kmer_inx"
   ]
  },
  {
   "cell_type": "code",
   "execution_count": 3,
   "metadata": {},
   "outputs": [],
   "source": [
    "def read_params(files):\n",
    "    params = []\n",
    "    for f in files:\n",
    "        param = np.loadtxt(join(param_dir, f))\n",
    "        param[-3:] = np.exp(param[-3:])\n",
    "\n",
    "        params.append(param)\n",
    "        \n",
    "    return params"
   ]
  },
  {
   "cell_type": "code",
   "execution_count": 4,
   "metadata": {},
   "outputs": [],
   "source": [
    "l = 3 #l_A=l_B=3 nucleotides\n",
    "l_p = 3 #persistence length is 3 nucleotides \n",
    "\n",
    "kmer_inx = generate_kmer_inx()\n",
    "inx_kmer = {y:x for x,y in kmer_inx.items()}"
   ]
  },
  {
   "cell_type": "markdown",
   "metadata": {},
   "source": [
    "### read files"
   ]
  },
  {
   "cell_type": "code",
   "execution_count": 5,
   "metadata": {},
   "outputs": [],
   "source": [
    "param_dir = 'param'\n",
    "#keyw = 'TAG_TAG_old'\n",
    "keyw = 'HNRNPA0_0t4_5000'\n",
    "keyw = 'KHDRBS2_0t4_5000'\n",
    "\n",
    "param_files = [f for f in os.listdir(param_dir) if isfile(join(param_dir, f))]\n",
    "\n",
    "to_pick = [keyw in s for s in param_files]\n",
    "param_files = list(compress(param_files, to_pick))\n",
    "\n",
    "adam_files = ['ADAM' in s for s in param_files]\n",
    "adam_files = list(compress(param_files, adam_files))\n",
    "\n",
    "lbfgs_files = ['LBFGS' in s for s in param_files]\n",
    "lbfgs_files = list(compress(param_files, lbfgs_files))"
   ]
  },
  {
   "cell_type": "code",
   "execution_count": 6,
   "metadata": {},
   "outputs": [
    {
     "name": "stdout",
     "output_type": "stream",
     "text": [
      "number of files: 27\n"
     ]
    }
   ],
   "source": [
    "print('number of files: %d'%len(adam_files))\n",
    "adam_params = read_params(adam_files)"
   ]
  },
  {
   "cell_type": "markdown",
   "metadata": {},
   "source": [
    "### plotting"
   ]
  },
  {
   "cell_type": "code",
   "execution_count": 7,
   "metadata": {},
   "outputs": [],
   "source": [
    "#structure data as pandas DF\n",
    "colnames = [inx_kmer[i] for i in range(len(inx_kmer))] + [inx_kmer[i] for i in range(len(inx_kmer))] + ['sf', 'D', 'sig']\n",
    "\n",
    "data = pd.DataFrame(adam_params, columns=colnames)\n",
    "core1 = data.iloc[:,:64]\n",
    "core1 = core1.loc[:,core1.median().sort_values().index]\n",
    "core2 = data.iloc[:,64:128]\n",
    "core2 = core2.loc[:,core2.median().sort_values().index]"
   ]
  },
  {
   "cell_type": "code",
   "execution_count": null,
   "metadata": {},
   "outputs": [],
   "source": [
    "pdf = matplotlib.backends.backend_pdf.PdfPages(\"summary_%s.pdf\"%keyw)\n",
    "\n",
    "#plot motifs\n",
    "fig, (ax1,ax2) = plt.subplots(2,1, figsize=(14,12))\n",
    "plt.subplots_adjust(hspace=0.3)\n",
    "\n",
    "core1.boxplot(ax=ax1, rot=90)\n",
    "ax1.set_title('Core I', fontsize=12)\n",
    "ax1.set_ylabel('binding energy (KbT)', fontsize=12)\n",
    "\n",
    "core2.boxplot(ax=ax2, rot=90)\n",
    "ax2.set_title('Core II', fontsize=12)\n",
    "ax2.set_ylabel('binding energy (KbT)', fontsize=12)\n",
    "\n",
    "pdf.savefig(fig)\n",
    "\n",
    "#plot distance attributes and energy distribution\n",
    "fig, axes = plt.subplots(3,3, figsize=(10,10))\n",
    "plt.subplots_adjust(hspace=0.3)\n",
    "\n",
    "ax1, ax2, ax3 = axes[0]\n",
    "\n",
    "x1 = ax1.hist(data['sf'])\n",
    "ax1.set_title('sf')\n",
    "\n",
    "x2 = ax2.hist(data['D'])\n",
    "ax2.set_title('D')\n",
    "\n",
    "x3 = ax3.hist(data['sig'])\n",
    "ax3.set_title('sig')\n",
    "\n",
    "for i in range(3):\n",
    "    axes[1][i].hist(data.iloc[i,:64],  color='#85adad')\n",
    "    axes[1][i].set_title('#%d core I'%(i+1))\n",
    "    \n",
    "for i in range(3):\n",
    "    axes[2][i].hist(data.iloc[i,64:128], color='#ff6666')\n",
    "    axes[2][i].set_title('#%d core II'%(i+1))\n",
    "    \n",
    "pdf.savefig(fig)\n",
    "pdf.close()"
   ]
  },
  {
   "cell_type": "code",
   "execution_count": null,
   "metadata": {},
   "outputs": [],
   "source": [
    "data.iloc[:,-3:]"
   ]
  },
  {
   "cell_type": "code",
   "execution_count": null,
   "metadata": {},
   "outputs": [],
   "source": []
  }
 ],
 "metadata": {
  "kernelspec": {
   "display_name": "Python [conda env:rbp_motif]",
   "language": "python",
   "name": "conda-env-rbp_motif-py"
  },
  "language_info": {
   "codemirror_mode": {
    "name": "ipython",
    "version": 3
   },
   "file_extension": ".py",
   "mimetype": "text/x-python",
   "name": "python",
   "nbconvert_exporter": "python",
   "pygments_lexer": "ipython3",
   "version": "3.6.7"
  }
 },
 "nbformat": 4,
 "nbformat_minor": 4
}
