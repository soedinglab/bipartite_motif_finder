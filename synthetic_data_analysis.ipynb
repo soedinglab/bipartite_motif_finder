{
 "cells": [
  {
   "cell_type": "markdown",
   "metadata": {},
   "source": [
    "# Plot the retrieved motifs from artificial datasets"
   ]
  },
  {
   "cell_type": "code",
   "execution_count": 618,
   "metadata": {},
   "outputs": [],
   "source": [
    "\n",
    "%matplotlib inline\n",
    "import numpy as np\n",
    "from matplotlib import pyplot as plt\n",
    "import os\n",
    "from os.path import isfile, join\n",
    "from itertools import compress\n",
    "import itertools\n",
    "import pandas as pd\n",
    "import seaborn as sns\n",
    "import matplotlib.backends.backend_pdf\n",
    "from scipy.stats import nbinom, sem, t\n",
    "from matplotlib.lines import Line2D"
   ]
  },
  {
   "cell_type": "markdown",
   "metadata": {},
   "source": [
    "## helper functions"
   ]
  },
  {
   "cell_type": "code",
   "execution_count": 2,
   "metadata": {},
   "outputs": [],
   "source": [
    "def generate_kmer_inx():\n",
    "    vals = {'A':0,'C':1,'G':2,'U':3}\n",
    "    l = 3 #core length\n",
    "    kmer_inx = {}\n",
    "    for p in list(itertools.product(vals.keys(), repeat=l)):\n",
    "        inx = 0\n",
    "        for j,base in enumerate(p):\n",
    "            inx += (4**j)*vals[base] \n",
    "        kmer_inx[''.join(p)] = inx\n",
    "    return kmer_inx\n",
    "\n",
    "#assignes each kmer to an index and visa versa\n",
    "kmer_inx = generate_kmer_inx()\n",
    "inx_kmer = {y:x for x,y in kmer_inx.items()}"
   ]
  },
  {
   "cell_type": "code",
   "execution_count": 3,
   "metadata": {},
   "outputs": [],
   "source": [
    "#reads the np.array files and extract the parameters\n",
    "#the distance parameters (last 3) are exp'ed to stay positive\n",
    "def read_params(files):\n",
    "    n_additional = 1 #non parameters saved at the end\n",
    "    n_exped = 3 #parameters kept positive through log exp trick\n",
    "    params = []\n",
    "    for f in files:\n",
    "        param = np.loadtxt(join(param_dir, f))\n",
    "        param[-n_additional-n_exped:-n_additional] = np.exp(param[-n_additional-n_exped:-n_additional])\n",
    "        param[-n_additional-1] = param[-n_additional-1]/(1+param[-n_additional-1])\n",
    "        params.append(param)      \n",
    "    return params"
   ]
  },
  {
   "cell_type": "markdown",
   "metadata": {},
   "source": [
    "## plotting functions"
   ]
  },
  {
   "cell_type": "code",
   "execution_count": 564,
   "metadata": {},
   "outputs": [],
   "source": [
    "def plot_core_logo(data, ax, color_scheme):\n",
    "    k=len(data[0][0])\n",
    "    scalings = [d[1] for d in data]\n",
    "    total = sum(scalings)\n",
    "    font_prop = matplotlib.font_manager.FontProperties(family=\"sans-serif\", weight=\"bold\")\n",
    "\n",
    "    letter_heights = {}\n",
    "    letter_widths = {}\n",
    "    for l in \"ACGTU\":\n",
    "        lp = matplotlib.textpath.TextPath((0,0), l, size=20, prop=font_prop)\n",
    "        ext = lp.get_extents()\n",
    "        letter_heights[l] = ext.y1 - ext.y0\n",
    "        letter_widths[l] = ext.x1 - ext.x0\n",
    "    max_letter_height = max(letter_heights.values())\n",
    "    max_letter_width = max(letter_widths.values())\n",
    "\n",
    "    letter_scalings = {k:max_letter_height/v for k,v in letter_heights.items()}\n",
    "\n",
    "    indiv_yscaling = {}\n",
    "    paths = []\n",
    "    for kmer, scaling in data:\n",
    "        row = []\n",
    "        for letter in kmer:\n",
    "            txt = matplotlib.textpath.TextPath((0,0), letter, size=20, prop=font_prop)\n",
    "            txt._letter = letter\n",
    "            row.append(txt)\n",
    "        paths.append(row)\n",
    "\n",
    "    scaled_height = total * max_letter_height\n",
    "\n",
    "    transformed_paths = []\n",
    "    cur_top = 0\n",
    "    for row_paths, scaling in zip(paths, scalings):\n",
    "        cur_x = 0\n",
    "        for i, path in enumerate(row_paths): \n",
    "            sy = scaling/scaled_height * letter_scalings[path._letter]\n",
    "            sx = 0.03\n",
    "            path_t = path.transformed(matplotlib.transforms.Affine2D().scale(sx=sx, sy=sy).translate(tx=cur_x, ty=cur_top))\n",
    "            path_t._letter = path._letter\n",
    "            transformed_paths.append(path_t)\n",
    "            ext = path_t.get_extents()\n",
    "            cur_x += max_letter_width*sx#(ext.x1 - ext.x0)* 1.1\n",
    "        cur_top += ext.y1 - ext.y0\n",
    "\n",
    "\n",
    "    for path in transformed_paths:\n",
    "        obj = matplotlib.patches.PathPatch(path, edgecolor=\"black\", facecolor=COLOR_SCHEME[path._letter])\n",
    "        ax.add_patch(obj)\n",
    "\n",
    "    ax.set_ylim(0, 1)\n",
    "    ax.set_xlim(0, k/2)\n",
    "    ax.get_xaxis().set_visible(False)\n",
    "    sns.despine(ax=ax, trim=True)"
   ]
  },
  {
   "cell_type": "code",
   "execution_count": 572,
   "metadata": {},
   "outputs": [],
   "source": [
    "def energy2prob(energy_series, top_n=5):\n",
    "    \n",
    "    probabilities = np.exp(-energy_series)/np.sum(np.exp(-energy_series))\n",
    "    probabilities_sorted = probabilities.sort_values(ascending=False)\n",
    "    \n",
    "    top_kmers = probabilities_sorted[:top_n]\n",
    "    top_kmers_formatted = [(inx, val) for inx, val in zip(top_kmers.index, top_kmers.values)]\n",
    "    return top_kmers_formatted"
   ]
  },
  {
   "cell_type": "code",
   "execution_count": 616,
   "metadata": {},
   "outputs": [],
   "source": [
    "def plot_logo(adam_params, file_name):\n",
    "    \n",
    "    colnames = [inx_kmer[i] for i in range(len(inx_kmer))] + [inx_kmer[i] for i in range(len(inx_kmer))] + ['sf', 'r', 'p'] + ['LL']\n",
    "    data = pd.DataFrame(adam_params, columns=colnames)\n",
    "    core1 = data.sort_values(by='LL').iloc[0,:len(kmer_inx)]\n",
    "    core1_probs = energy2prob(core1, top_n=5)\n",
    "\n",
    "    core2 = data.sort_values(by='LL').iloc[0,len(kmer_inx):2*len(kmer_inx)]\n",
    "    core2_probs = energy2prob(core2, top_n=5)\n",
    "\n",
    "    r = data.sort_values(by='LL')['r'].values[0]\n",
    "    p = data.sort_values(by='LL')['p'].values[0]\n",
    "\n",
    "    sns.set_style(\"ticks\")\n",
    "    sns.despine(trim=True)\n",
    "\n",
    "    COLOR_SCHEME = {'G': 'orange', \n",
    "                    'A': 'red', \n",
    "                    'C': 'blue', \n",
    "                    'T': 'darkgreen',\n",
    "                    'U': 'darkgreen'\n",
    "                   }\n",
    "\n",
    "    fig, (ax1, ax2, ax3) = plt.subplots(1,3, figsize=(6, 2))\n",
    "    plot_core_logo(core1_probs, ax1, color_scheme=COLOR_SCHEME)\n",
    "    plot_core_logo(core2_probs, ax3, color_scheme=COLOR_SCHEME)\n",
    "\n",
    "    #plot distance\n",
    "    mean = ((1-p)*r)/(p)\n",
    "    xx = np.arange(0,int(mean)+8,1)\n",
    "    \n",
    "    _ = ax2.plot(xx, nbinom.pmf(xx, r, p), 'o--',alpha=0.7, color='black')\n",
    "    _ = ax2.set_xlabel('distance')\n",
    "    \n",
    "    #not show y axis in the plot\n",
    "    ax2.set_frame_on(False)\n",
    "    _ = ax2.get_yaxis().set_visible(False)\n",
    "    xmin, xmax = ax2.get_xaxis().get_view_interval()\n",
    "    ymin, ymax = ax2.get_yaxis().get_view_interval()\n",
    "    ax2.add_artist(Line2D((xmin, xmax), (ymin, ymin), color='black', linewidth=2))\n",
    "\n",
    "\n",
    "    _ = ax3.set_yticks(range(0,2))\n",
    "    _ = ax3.set_yticklabels(np.arange(0,2,1))\n",
    "\n",
    "    _ = ax3.get_xaxis().set_visible(False)\n",
    "    _ = ax1.set_ylabel('probability')\n",
    "    sns.despine(ax=ax2, trim=True)\n",
    "    sns.despine(ax=ax3, trim=True)\n",
    "\n",
    "    plt.savefig(file_name, bbox_inches='tight')"
   ]
  },
  {
   "cell_type": "markdown",
   "metadata": {},
   "source": [
    "## read files"
   ]
  },
  {
   "cell_type": "code",
   "execution_count": 629,
   "metadata": {},
   "outputs": [],
   "source": [
    "param_dir = 'synthetic'\n",
    "plot_dir = 'synthetic'\n",
    "\n",
    "#keyword specifies the starting name of all param files\n",
    "keyw = 'acacac_0'  #the keyword which assigns the files to a batch\n",
    "\n",
    "n_orig = 40\n",
    "p_orig = 0.999999999\n",
    "\n",
    "param_files = [f for f in os.listdir(param_dir) if isfile(join(param_dir, f))]\n",
    "\n",
    "to_pick = [s.startswith(keyw) & s.endswith('.txt') for s in param_files]\n",
    "param_files = list(compress(param_files, to_pick))"
   ]
  },
  {
   "cell_type": "code",
   "execution_count": 630,
   "metadata": {},
   "outputs": [
    {
     "name": "stdout",
     "output_type": "stream",
     "text": [
      "number of files: 10\n"
     ]
    }
   ],
   "source": [
    "print('number of files: %d'%len(param_files))\n",
    "adam_params = read_params(param_files)"
   ]
  },
  {
   "cell_type": "markdown",
   "metadata": {},
   "source": [
    "## Logo Plots"
   ]
  },
  {
   "cell_type": "code",
   "execution_count": 631,
   "metadata": {},
   "outputs": [
    {
     "data": {
      "text/plain": [
       "<Figure size 432x288 with 0 Axes>"
      ]
     },
     "metadata": {},
     "output_type": "display_data"
    },
    {
     "data": {
      "image/png": "[encoded data removed]",
      "text/plain": [
       "<Figure size 432x144 with 3 Axes>"
      ]
     },
     "metadata": {},
     "output_type": "display_data"
    }
   ],
   "source": [
    "plot_logo(adam_params, f'synthetic/{keyw}_seqlogo.pdf')"
   ]
  },
  {
   "cell_type": "markdown",
   "metadata": {},
   "source": [
    "# NB plot"
   ]
  },
  {
   "cell_type": "code",
   "execution_count": 632,
   "metadata": {},
   "outputs": [],
   "source": [
    "#structure data as pandas DF\n",
    "colnames = [inx_kmer[i] for i in range(len(inx_kmer))] + [inx_kmer[i] for i in range(len(inx_kmer))] + ['sf', 'r', 'p'] + ['LL']\n",
    "\n",
    "data = pd.DataFrame(adam_params, columns=colnames)\n",
    "core1 = data.iloc[:,:len(kmer_inx)]\n",
    "core1 = core1.loc[:,core1.median().sort_values().index]\n",
    "core2 = data.iloc[:,len(kmer_inx):2*len(kmer_inx)]\n",
    "core2 = core2.loc[:,core2.median().sort_values().index]"
   ]
  },
  {
   "cell_type": "code",
   "execution_count": null,
   "metadata": {},
   "outputs": [],
   "source": [
    "pdf = matplotlib.backends.backend_pdf.PdfPages(os.path.join(plot_dir,f'{keyw}_motif.pdf'))\n",
    "\n",
    "#=== plot motifs =================\n",
    "fig, (ax1,ax2) = plt.subplots(2,1, figsize=(12,8))\n",
    "plt.subplots_adjust(hspace=0.3)\n",
    "\n",
    "core1.boxplot(ax=ax1, rot=90)\n",
    "ax1.set_title('Core I', fontsize=12)\n",
    "ax1.set_ylabel('binding energy (KbT)', fontsize=12)\n",
    "\n",
    "core2.boxplot(ax=ax2, rot=90)\n",
    "ax2.set_title('Core II', fontsize=12)\n",
    "ax2.set_ylabel('binding energy (KbT)', fontsize=12)\n",
    "\n",
    "pdf.savefig(fig)\n",
    "\n",
    "#=====================\n",
    "\n",
    "r = data.sort_values(by='LL')['r'].values\n",
    "p = data.sort_values(by='LL')['p'].values\n",
    "ll = -data.sort_values(by='LL')['LL'].values\n",
    "\n",
    "#== plot distance distributions =================\n",
    "\n",
    "fig, ax = plt.subplots(figsize=(5,3))\n",
    "\n",
    "xx = np.arange(35)\n",
    "cmap = matplotlib.cm.get_cmap('RdBu_r')\n",
    "colors = (ll-min(ll))/(max(ll)-min(ll))\n",
    "colors = [cmap(c) for c in colors]\n",
    "\n",
    "for i in range(len(r)):\n",
    "    ax.plot(xx, nbinom.pmf(xx, r[i], p[i]), alpha=0.7, color=colors[i], linestyle='--', label=f'LL={ll[i]:.1f}')\n",
    "\n",
    "if True:\n",
    "    ax.plot(xx, nbinom.pmf(xx, n_orig, p_orig), color='red')\n",
    "ax.legend()    \n",
    "ax.set_xlabel('distance')\n",
    "ax.set_ylabel('pmf')\n",
    "pdf.savefig(fig)\n",
    "\n",
    "pdf.close()"
   ]
  },
  {
   "cell_type": "code",
   "execution_count": 62,
   "metadata": {},
   "outputs": [
    {
     "data": {
      "image/png": "[encoded data removed]",
      "text/plain": [
       "<Figure size 288x288 with 1 Axes>"
      ]
     },
     "metadata": {
      "needs_background": "light"
     },
     "output_type": "display_data"
    }
   ],
   "source": [
    "prc = 10\n",
    "\n",
    "fig, ax = plt.subplots(figsize=(4,4))\n",
    "\n",
    "for i in range(len(kmer_inx)):\n",
    "    kmer = core1.columns[i]\n",
    "    energies1 = np.exp(-core1.loc[:,kmer])\n",
    "    energies2 = np.exp(-core2.loc[:,kmer])\n",
    "    \n",
    "    energies1 = core1.loc[:,kmer]\n",
    "    energies2 = core2.loc[:,kmer]\n",
    "    \n",
    "    x = np.median(energies1)\n",
    "    y = np.median(energies2)\n",
    "    \n",
    "    xerr = np.percentile(energies1,prc), np.percentile(energies1,100-prc)\n",
    "    xerr = np.abs(np.array(xerr).reshape(2,1) - np.median(energies1))\n",
    "    yerr = np.percentile(energies2,prc), np.percentile(energies2,100-prc)\n",
    "    yerr = np.abs(np.array(yerr).reshape(2,1) - np.median(energies2))\n",
    "    \n",
    "    #ax.set_xscale('log')\n",
    "    #ax.set_yscale('log')\n",
    "    \n",
    "    \n",
    "    ax.errorbar(x=x, y=y, yerr=yerr, xerr=xerr, fmt='o', color='grey', elinewidth=1, capsize=1, alpha=0.6)"
   ]
  }
 ],
 "metadata": {
  "kernelspec": {
   "display_name": "Python [conda env:rbp_motif]",
   "language": "python",
   "name": "conda-env-rbp_motif-py"
  },
  "language_info": {
   "codemirror_mode": {
    "name": "ipython",
    "version": 3
   },
   "file_extension": ".py",
   "mimetype": "text/x-python",
   "name": "python",
   "nbconvert_exporter": "python",
   "pygments_lexer": "ipython3",
   "version": "3.6.7"
  }
 },
 "nbformat": 4,
 "nbformat_minor": 4
}
