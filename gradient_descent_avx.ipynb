{
 "cells": [
  {
   "cell_type": "markdown",
   "metadata": {},
   "source": [
    "## Learning bi-partite motifs based on a thermodynamic approach\n",
    "### import libraries and functions"
   ]
  },
  {
   "cell_type": "code",
   "execution_count": 1,
   "metadata": {},
   "outputs": [],
   "source": [
    "#imports\n",
    "exec(compile(open('src/load_libs.py', 'rb').read(), 'src/load_libs.py', 'exec')) \n",
    "\n",
    "#dynamic programming implementation of the LL class\n",
    "exec(compile(open('src/LL_avx.py', 'rb').read(), 'src/LL_avx.py', 'exec')) \n",
    "\n",
    "#the wrapper functions, gradient descent implementation\n",
    "exec(compile(open('src/ADAM_func.py', 'rb').read(), 'src/ADAM_func.py', 'exec')) \n",
    "\n",
    "random.seed(42)"
   ]
  },
  {
   "cell_type": "markdown",
   "metadata": {},
   "source": [
    "### Import data"
   ]
  },
  {
   "cell_type": "markdown",
   "metadata": {},
   "source": [
    "### RBNS"
   ]
  },
  {
   "cell_type": "code",
   "execution_count": 2,
   "metadata": {
    "jupyter": {
     "source_hidden": true
    }
   },
   "outputs": [],
   "source": [
    "#RBNS DATASET\n",
    "if False:\n",
    "    factor_number = 0\n",
    "\n",
    "    #define paths for RBNS dataset files\n",
    "    rbp_path = '../rbns_scratch/data'\n",
    "    factors = np.sort(os.listdir(rbp_path)) #list available factors\n",
    "\n",
    "    all_files = [os.listdir(os.path.join(rbp_path, factor)) for factor in factors]\n",
    "\n",
    "    pulldown_files = [np.sort(files)[2] for files in all_files]  #take 320 concentration when available otherwise another concentration\n",
    "    input_files = [[f for f in files if '_input_' in f][0] for files in all_files]\n",
    "    concentrations = [f.split('_')[1] for f in pulldown_files] #see which concentration we took\n",
    "\n",
    "    if factor_number in range(len(factors)):\n",
    "        factor = factors[factor_number]\n",
    "        concentration = concentrations[factor_number]\n",
    "        print(f'processing {factor}')\n",
    "        bg = os.path.join(rbp_path,factor,input_files[factor_number])\n",
    "        pos = os.path.join(rbp_path,factor,pulldown_files[factor_number])\n",
    "\n",
    "    background_set = parse_fastq(bg)\n",
    "    background_set = [seq.replace('N', random.sample(['A','T','C','G'],1)[0]) for seq in background_set]\n",
    "    print(f'dataset has {len(background_set)} background sequences.')\n",
    "\n",
    "    positive_set = parse_fastq(pos)\n",
    "    positive_set = [seq.replace('N', random.sample(['A','T','C','G'],1)[0]) for seq in positive_set]\n",
    "    print(f'dataset has {len(positive_set)} positive sequences.')"
   ]
  },
  {
   "cell_type": "markdown",
   "metadata": {},
   "source": [
    "### HT-SELEX"
   ]
  },
  {
   "cell_type": "code",
   "execution_count": 25,
   "metadata": {},
   "outputs": [],
   "source": [
    "factor_number = 49\n",
    "if True:\n",
    "    \n",
    "    #parse the dataset to find the corresponding files for each factor\n",
    "    selex_files = np.loadtxt('selex_files.txt', dtype=str) #name of all files\n",
    "\n",
    "    #first part of file_name is the protein name\n",
    "    factors = np.unique([s.split('_')[0] for s in selex_files]) \n",
    "\n",
    "    #select the factor based on the input\n",
    "    factor = factors[factor_number]\n",
    "\n",
    "    #files that correspond to this factor\n",
    "    factor_files = selex_files[np.array([factor in s for s in selex_files])]\n",
    "    factor_barcodes = np.unique([s.split('_')[1] for s in factor_files])\n",
    "    files_by_bc = []\n",
    "    for bc in factor_barcodes:\n",
    "        files = factor_files[np.array([bc in s for s in factor_files])]\n",
    "        corresponding_bg_file = selex_files[np.array([(bc in s)&('ZeroCycle' in s) for s in selex_files])][0]\n",
    "        files_with_bg = np.append(files,corresponding_bg_file)\n",
    "        files_with_bg_sorted_by_cycle = files_with_bg[np.argsort([int(f.split('_')[3]) for f in files_with_bg])]\n",
    "        files_by_bc.append(files_with_bg_sorted_by_cycle)"
   ]
  },
  {
   "cell_type": "code",
   "execution_count": null,
   "metadata": {},
   "outputs": [
    {
     "name": "stdout",
     "output_type": "stream",
     "text": [
      "0\n"
     ]
    }
   ],
   "source": [
    "selex_files = files_by_bc[0]\n",
    "avg_auc = []\n",
    "\n",
    "selex_files = [os.path.join('../rbp_scratch/data', f) for f in selex_files]\n",
    "\n",
    "train_sets = []\n",
    "test_sets = []\n",
    "\n",
    "#separate trainig and test sets\n",
    "for i in range(len(selex_files)):\n",
    "    \n",
    "    sequences = parse_fastq(selex_files[i])\n",
    "    sequences = [seq.replace('N', random.sample(['A','T','C','G'],1)[0]) for seq in sequences]\n",
    "    \n",
    "    #calculate the size for x fraction of dataset\n",
    "    fraction = 0.2\n",
    "    no_seqs  = int(len(sequences)*fraction)\n",
    "    \n",
    "    #partition the test and training sets\n",
    "    train, test = partition(sequences[:no_seqs], 2)\n",
    "    \n",
    "    train_sets.append(train)\n",
    "    test_sets.append(test)\n",
    "    \n",
    "    \n",
    "#parameter initialization\n",
    "np.random.seed(0)\n",
    "\n",
    "core_length = 3\n",
    "\n",
    "Ea = np.random.normal(loc=12.0, scale=1.0, size=4**core_length)\n",
    "Eb = np.random.normal(loc=12.0, scale=1.0, size=4**core_length)\n",
    "sf = np.log(10000)\n",
    "r = np.log(np.random.uniform(1,15))\n",
    "p = 0\n",
    "\n",
    "parameters = np.concatenate([x.ravel() for x in [Ea, Eb, np.array([sf, r, p])]])\n",
    "\n",
    "var_thr = 0.03\n",
    "seq_per_batch = 500\n",
    "\n",
    "#calculate auc values for consecutive  pairs \n",
    "for bg_inx in range(0,len(selex_files)-1):\n",
    "\n",
    "    print(bg_inx)\n",
    "    maxiter=300\n",
    "    \n",
    "    file_name = f'dev_{bg_inx}_{maxiter}iterations_{core_length}cl'\n",
    "    theta_0, g_t  = optimize_adam(\n",
    "                                        train_sets[bg_inx+1], train_sets[bg_inx], \n",
    "                                        test_sets[bg_inx+1], test_sets[bg_inx], \n",
    "                                        core_length=core_length,\n",
    "                                        var_thr=var_thr, \n",
    "                                        sequences_per_batch=seq_per_batch, \n",
    "                                        max_iterations=maxiter, \n",
    "                                        evaluate_after=4000,\n",
    "                                        save_files=True\n",
    "                                        )\n",
    "    \n",
    "    kmer_inx = generate_kmer_inx(core_length)\n",
    "    auc_list = []\n",
    "    \n",
    "    #calculate the performance (AUC) of the obtained parameters on all consecutive selex rounds\n",
    "    for bg_inx in range(0,len(selex_files)-1):\n",
    "        _,_,auc = auc_evaluate(theta_0, test_sets[bg_inx+1], test_sets[bg_inx], core_length, kmer_inx)\n",
    "        auc_list.append(auc)\n",
    "\n",
    "    #calculate average auc obtained with theta_0\n",
    "    avg_auc.append(np.mean(auc_list))"
   ]
  },
  {
   "cell_type": "code",
   "execution_count": 23,
   "metadata": {},
   "outputs": [
    {
     "data": {
      "text/plain": [
       "2"
      ]
     },
     "execution_count": 23,
     "metadata": {},
     "output_type": "execute_result"
    }
   ],
   "source": [
    "np.argmax(avg_auc)"
   ]
  },
  {
   "cell_type": "code",
   "execution_count": 24,
   "metadata": {},
   "outputs": [
    {
     "data": {
      "text/plain": [
       "[0.6068883996761594,\n",
       " 0.6071798883047074,\n",
       " 0.6076108840845349,\n",
       " 0.6058355399559245]"
      ]
     },
     "execution_count": 24,
     "metadata": {},
     "output_type": "execute_result"
    }
   ],
   "source": [
    "avg_auc"
   ]
  },
  {
   "cell_type": "code",
   "execution_count": 16,
   "metadata": {},
   "outputs": [
    {
     "data": {
      "text/plain": [
       "[0.608522534592342, 0.6246134208656413, 0.6308051850469123, 0.5387608959198515]"
      ]
     },
     "execution_count": 16,
     "metadata": {},
     "output_type": "execute_result"
    }
   ],
   "source": [
    "avg_auc # 300iterations 3 cores"
   ]
  },
  {
   "cell_type": "code",
   "execution_count": 14,
   "metadata": {},
   "outputs": [
    {
     "data": {
      "text/plain": [
       "[0.6364822112598901,\n",
       " 0.6431817224879031,\n",
       " 0.6430316439607133,\n",
       " 0.5687639534075045]"
      ]
     },
     "execution_count": 14,
     "metadata": {},
     "output_type": "execute_result"
    }
   ],
   "source": [
    "avg_auc #300iterations"
   ]
  },
  {
   "cell_type": "code",
   "execution_count": 12,
   "metadata": {},
   "outputs": [
    {
     "data": {
      "text/plain": [
       "[0.6426737839334213, 0.6401052715095901, 0.6289252162657615, 0.556990202375104]"
      ]
     },
     "execution_count": 12,
     "metadata": {},
     "output_type": "execute_result"
    }
   ],
   "source": [
    "avg_auc #1000iterations"
   ]
  },
  {
   "cell_type": "code",
   "execution_count": 10,
   "metadata": {},
   "outputs": [
    {
     "data": {
      "text/plain": [
       "[0.5980110001097338, 0.6205769295602022, 0.64062299582889, 0.5640745145593189]"
      ]
     },
     "execution_count": 10,
     "metadata": {},
     "output_type": "execute_result"
    }
   ],
   "source": [
    "avg_auc #100iterations"
   ]
  },
  {
   "cell_type": "markdown",
   "metadata": {},
   "source": [
    "### Simulated data"
   ]
  },
  {
   "cell_type": "code",
   "execution_count": 3,
   "metadata": {},
   "outputs": [],
   "source": [
    "random.seed(42)\n",
    "\n",
    "background_set = parse_fasta('negatives_toy.fasta')\n",
    "positive_set = parse_fasta('positives_toy.fasta')"
   ]
  },
  {
   "cell_type": "code",
   "execution_count": 4,
   "metadata": {},
   "outputs": [],
   "source": [
    "bg_train, bg_valid = partition(background_set, 2)\n",
    "pos_train, pos_valid = partition(positive_set, 2)"
   ]
  },
  {
   "cell_type": "markdown",
   "metadata": {},
   "source": [
    "## Run parameter optimization "
   ]
  },
  {
   "cell_type": "code",
   "execution_count": 22,
   "metadata": {},
   "outputs": [
    {
     "data": {
      "image/png": "[encoded data removed]",
      "text/plain": [
       "<Figure size 864x252 with 4 Axes>"
      ]
     },
     "metadata": {
      "needs_background": "light"
     },
     "output_type": "display_data"
    }
   ],
   "source": [
    "for i in range(0,1):\n",
    "    np.random.seed(i)\n",
    "\n",
    "    core_length = 4\n",
    "    \n",
    "    Ea = np.random.normal(loc=12.0, scale=1.0, size=4**core_length)\n",
    "    Eb = np.random.normal(loc=12.0, scale=1.0, size=4**core_length)\n",
    "    sf = np.log(10000)\n",
    "    r = np.log(np.random.uniform(1,15))\n",
    "    p = 0\n",
    "\n",
    "    parameters = np.concatenate([x.ravel() for x in [Ea, Eb, np.array([sf, r, p])]])\n",
    "    \n",
    "    var_thr = 0.03\n",
    "    \n",
    "    seq_per_batch = 500\n",
    "    \n",
    "    file_name = f'toy_{i}'\n",
    "\n",
    "    maxiter=1000\n",
    "    if True:\n",
    "        theta_0, g_t  = optimize_adam(\n",
    "                                        pos_train, bg_train, \n",
    "                                        pos_valid, bg_valid, \n",
    "                                        core_length=core_length,\n",
    "                                        var_thr=var_thr, \n",
    "                                        sequences_per_batch=seq_per_batch, \n",
    "                                        max_iterations=maxiter, \n",
    "                                        evaluate_after=4000\n",
    "                                        )\n",
    "    "
   ]
  },
  {
   "cell_type": "code",
   "execution_count": 14,
   "metadata": {},
   "outputs": [],
   "source": [
    "#imports\n",
    "exec(compile(open('src/load_libs.py', 'rb').read(), 'src/load_libs.py', 'exec')) \n",
    "\n",
    "#dynamic programming implementation of the LL class\n",
    "exec(compile(open('src/LL_avx.py', 'rb').read(), 'src/LL_avx.py', 'exec')) \n",
    "\n",
    "#the wrapper functions, gradient descent implementation\n",
    "exec(compile(open('src/ADAM_func.py', 'rb').read(), 'src/ADAM_func.py', 'exec')) \n",
    "\n",
    "random.seed(42)"
   ]
  },
  {
   "cell_type": "code",
   "execution_count": 2,
   "metadata": {},
   "outputs": [],
   "source": [
    "Ea = np.random.normal(loc=12.0, scale=1.0, size=len(kmer_inx))\n",
    "Eb = np.random.normal(loc=12.0, scale=1.0, size=len(kmer_inx))\n",
    "sf = np.log(100)\n",
    "r = 0.5\n",
    "p = 0.5\n",
    "\n",
    "parameters = np.concatenate([x.ravel() for x in [Ea, Eb, np.array([sf, r, p])]])"
   ]
  },
  {
   "cell_type": "code",
   "execution_count": 3,
   "metadata": {},
   "outputs": [
    {
     "name": "stdout",
     "output_type": "stream",
     "text": [
      "component 0\n",
      "-4.692468635880687e-06\n",
      "-4.69247594151443e-06\n",
      "component 127\n",
      "-1.245470393484993e-05\n",
      "-1.245474638876641e-05\n",
      "component 128\n",
      "4.2188474935755943e-10\n",
      "4.2023572600514797e-10\n",
      "component 129\n",
      "3.2418512319054567e-09\n",
      "3.2835059284631946e-09\n",
      "component 130\n",
      "-4.818367926873179e-09\n",
      "-4.854353684663969e-09\n"
     ]
    }
   ],
   "source": [
    "param = parameters\n",
    "intrep = seq2int_cy('AAGAAGGCATAGTTTGCGATTTAGCGGCTGACATTAAATC')\n",
    "\n",
    "for comp in [0,127,128,129,130]:\n",
    "    epsilon = 1e-5\n",
    "    x_fwd = param.copy()\n",
    "    x_fwd[comp] += epsilon\n",
    "    x_rev = param.copy()\n",
    "    x_rev[comp] -= epsilon\n",
    "\n",
    "    fx_fwd = DP_Z_cy(x_fwd, intrep)[0]\n",
    "    fx_rev = DP_Z_cy(x_rev, intrep)[0]\n",
    "    \n",
    "    print('component %d'%comp)\n",
    "    print((fx_fwd - fx_rev)/(2*epsilon))\n",
    "    print(DP_Z_cy(param, intrep)[1][comp])"
   ]
  },
  {
   "cell_type": "code",
   "execution_count": 15,
   "metadata": {},
   "outputs": [
    {
     "name": "stdout",
     "output_type": "stream",
     "text": [
      "component 0\t, 1=533.487452, 2=533.487451\n",
      "0.03890284574481484\n",
      "0.03890294468698802\n",
      "component 127\t, 1=533.487452, 2=533.487451\n",
      "0.07215142545646813\n",
      "0.07215155496568709\n",
      "component 128\t, 1=533.487451, 2=533.487451\n",
      "0.0007133394319680518\n",
      "0.0007129654955893132\n",
      "component 129\t, 1=533.487451, 2=533.487451\n",
      "0.0003231377831980353\n",
      "0.0003231206133736224\n",
      "component 130\t, 1=533.487451, 2=533.487451\n",
      "1.5216983229038304e-05\n",
      "1.563850826062949e-05\n"
     ]
    }
   ],
   "source": [
    "n = 100\n",
    "nll_obj = nLL(positive_set[:n], background_set[:n])\n",
    "\n",
    "\n",
    "Ea = np.random.normal(loc=12.0, scale=1.0, size=len(kmer_inx))\n",
    "Eb = np.random.normal(loc=12.0, scale=1.0, size=len(kmer_inx))\n",
    "sf = np.log(100)\n",
    "r = np.log(0.5)\n",
    "p = np.log(0.5)\n",
    "\n",
    "parameters = np.concatenate([x.ravel() for x in [Ea, Eb, np.array([sf, r, p])]])\n",
    "param = parameters\n",
    "\n",
    "for comp in [0, 127,128,129,130]:\n",
    "    epsilon = 1e-5\n",
    "    x_fwd = param.copy()\n",
    "    x_fwd[comp] += epsilon\n",
    "    x_rev = param.copy()\n",
    "    x_rev[comp] -= epsilon\n",
    "\n",
    "    fx_fwd = nll_obj(x_fwd)[0]\n",
    "    fx_rev = nll_obj(x_rev)[0]\n",
    "    \n",
    "    print('component %d\\t, 1=%f, 2=%f'%(comp, fx_fwd, nll_obj(param)[0]))\n",
    "    print((fx_fwd - fx_rev)/(2*epsilon))\n",
    "    print(nll_obj(param)[1][comp])"
   ]
  },
  {
   "cell_type": "code",
   "execution_count": null,
   "metadata": {},
   "outputs": [],
   "source": []
  }
 ],
 "metadata": {
  "kernelspec": {
   "display_name": "Python [conda env:rbp_motif]",
   "language": "python",
   "name": "conda-env-rbp_motif-py"
  },
  "language_info": {
   "codemirror_mode": {
    "name": "ipython",
    "version": 3
   },
   "file_extension": ".py",
   "mimetype": "text/x-python",
   "name": "python",
   "nbconvert_exporter": "python",
   "pygments_lexer": "ipython3",
   "version": "3.6.7"
  }
 },
 "nbformat": 4,
 "nbformat_minor": 4
}
