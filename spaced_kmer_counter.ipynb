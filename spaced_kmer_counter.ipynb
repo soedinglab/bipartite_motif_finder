{
 "cells": [
  {
   "cell_type": "markdown",
   "metadata": {},
   "source": [
    "# Count all spaced k-mers from KMC output "
   ]
  },
  {
   "cell_type": "code",
   "execution_count": 4,
   "metadata": {},
   "outputs": [],
   "source": [
    "import numpy as np\n",
    "import os\n",
    "import pandas as pd\n",
    "from matplotlib import pyplot as plt\n",
    "from Bio import SeqIO\n",
    "import sys\n",
    "import glob\n",
    "import matplotlib.patches as mpatches\n",
    "import pickle\n",
    "import itertools \n",
    "from numpy import arange\n",
    "import argparse"
   ]
  },
  {
   "cell_type": "code",
   "execution_count": 5,
   "metadata": {},
   "outputs": [],
   "source": [
    "def parse_fastq(file_name):\n",
    "    input_seq_iterator = SeqIO.parse(file_name, \"fastq\")\n",
    "    return [str(record.seq) for record in input_seq_iterator]\n",
    "\n",
    "def parse_fasta(file_name):\n",
    "    input_seq_iterator = SeqIO.parse(file_name, \"fasta\")\n",
    "    return [str(record.seq) for record in input_seq_iterator]\n",
    "\n",
    "def parse_seq(file_name):\n",
    "    with open(file_name,'r') as f:\n",
    "        seq = [line.rstrip() for line in f]\n",
    "    return seq"
   ]
  },
  {
   "cell_type": "code",
   "execution_count": 6,
   "metadata": {},
   "outputs": [],
   "source": [
    "sequences = parse_fasta('positives_toy.fasta')\n",
    "core1 = 'TAG'\n",
    "core2 = 'ACT'"
   ]
  },
  {
   "cell_type": "code",
   "execution_count": 7,
   "metadata": {},
   "outputs": [],
   "source": [
    "pickle_dir = 'pickles'\n",
    "data_dir = 'data'\n",
    "\n",
    "#normalize = '0' #normalize with 'input' or 'mock'\n",
    "core_size = 3\n",
    "k_range = range(core_size*2,35) #kmer size\n",
    "\n",
    "\n",
    "def count_bipartite_stats(file_name, input_name, k_range, core_size):\n",
    "    bases = ['A','C','G','T']\n",
    "    all_kmers = [''.join(p) for p in itertools.product(bases, repeat=2*core_size)]\n",
    "    count_table = pd.DataFrame(index=np.sort(all_kmers))\n",
    "    \n",
    "\n",
    "    for k in k_range:\n",
    "        print(k)\n",
    "        all_kmers = np.sort([''.join(p) for p in itertools.product(bases, repeat=k)])\n",
    "\n",
    "        input_kmer_files = glob.glob(os.path.join(data_dir,f'{input_name}*_%dmer.txt' % k))\n",
    "        input_files = [os.path.basename(d).split('.')[0] for d in input_kmer_files]\n",
    "\n",
    "        pd_kmer_files = glob.glob(os.path.join(data_dir,f'{file_name}*_%dmer.txt' % k))\n",
    "        pd_files = [os.path.basename(d).split('.')[0] for d in pd_kmer_files]\n",
    "\n",
    "\n",
    "        name = 'positives'\n",
    "        counts = pd.read_table(pd_kmer_files[0], header=None, sep='\\t').sort_index()\n",
    "        counts.columns = ['kmer','count']\n",
    "        complete = pd.DataFrame({'kmer':all_kmers})\n",
    "        counts = complete.merge(counts, on='kmer', how='left').fillna(0)\n",
    "\n",
    "        counts['spaced'] = [''.join([ix[:3], ix[-3:]]) for ix in counts.kmer]\n",
    "        counts = counts.sort_values(['spaced'], ascending=True)\n",
    "        #return counts\n",
    "\n",
    "        if k>2*core_size:\n",
    "            c = np.add.reduceat(counts['count'].values , np.arange(0, len(counts.index), np.power(4,k-2*core_size)))\n",
    "\n",
    "        else:\n",
    "            c=counts['count'].values\n",
    "\n",
    "        #assign each kmer count to spaced core version\n",
    "        count_table['count_%s_k%d'%(name,k)] = c\n",
    "\n",
    "        #calculate motif fraction\n",
    "        count_table['frac_%s_k%d'%(name,k)] = count_table['count_%s_k%d'%(name,k)]/sum(count_table['count_%s_k%d'%(name,k)])\n",
    "\n",
    "        name = 'negatives'\n",
    "        counts = pd.read_table(input_kmer_files[0], header=None, sep='\\t').sort_index()\n",
    "        counts.columns = ['kmer','count']\n",
    "        complete = pd.DataFrame({'kmer':all_kmers})\n",
    "        counts = complete.merge(counts, on='kmer', how='left').fillna(0)\n",
    "\n",
    "        counts['spaced'] = [''.join([ix[:3], ix[-3:]]) for ix in counts.kmer]\n",
    "        counts = counts.sort_values(['spaced'], ascending=True)\n",
    "        #return counts\n",
    "\n",
    "        if k>2*core_size:\n",
    "            c = np.add.reduceat(counts['count'].values , np.arange(0, len(counts.index), np.power(4,k-2*core_size)))\n",
    "\n",
    "        else:\n",
    "            c=counts['count'].values\n",
    "\n",
    "        #assign each kmer count to spaced core version\n",
    "        count_table['count_%s_k%d'%(name,k)] = c\n",
    "\n",
    "        #calculate motif fraction\n",
    "        count_table['frac_%s_k%d'%(name,k)] = count_table['count_%s_k%d'%(name,k)]/sum(count_table['count_%s_k%d'%(name,k)])\n",
    "            \n",
    "        with open(os.path.join(pickle_dir, '%s_spaced_counts_%dcore.pkl'%('toy',core_size)), 'wb') as f: \n",
    "            pickle.dump(count_table, f)\n",
    "\n",
    "    return count_table"
   ]
  },
  {
   "cell_type": "code",
   "execution_count": null,
   "metadata": {},
   "outputs": [
    {
     "name": "stdout",
     "output_type": "stream",
     "text": [
      "6\n",
      "7\n",
      "8\n",
      "9\n",
      "10\n",
      "11\n",
      "12\n",
      "13\n",
      "14\n",
      "15\n"
     ]
    }
   ],
   "source": [
    "count_table = count_bipartite_stats(file_name='positives_toy', input_name='negatives_toy', k_range=np.arange(6,20), core_size=3)"
   ]
  },
  {
   "cell_type": "code",
   "execution_count": 57,
   "metadata": {},
   "outputs": [
    {
     "data": {
      "text/plain": [
       "0        17\n",
       "192      17\n",
       "128      25\n",
       "64       25\n",
       "1        25\n",
       "         ..\n",
       "16382    17\n",
       "16319    20\n",
       "16191    20\n",
       "16255    17\n",
       "16383    43\n",
       "Name: count, Length: 16384, dtype: int64"
      ]
     },
     "execution_count": 57,
     "metadata": {},
     "output_type": "execute_result"
    }
   ],
   "source": [
    "counts['count']"
   ]
  },
  {
   "cell_type": "code",
   "execution_count": null,
   "metadata": {},
   "outputs": [],
   "source": []
  }
 ],
 "metadata": {
  "kernelspec": {
   "display_name": "Python [conda env:rbp_motif]",
   "language": "python",
   "name": "conda-env-rbp_motif-py"
  },
  "language_info": {
   "codemirror_mode": {
    "name": "ipython",
    "version": 3
   },
   "file_extension": ".py",
   "mimetype": "text/x-python",
   "name": "python",
   "nbconvert_exporter": "python",
   "pygments_lexer": "ipython3",
   "version": "3.6.7"
  }
 },
 "nbformat": 4,
 "nbformat_minor": 4
}
