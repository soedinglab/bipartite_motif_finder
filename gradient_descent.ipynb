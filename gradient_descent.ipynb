{
 "cells": [
  {
   "cell_type": "markdown",
   "metadata": {},
   "source": [
    "## Learning bi-partite motifs based on a thermodynamic approach\n",
    "### Implements the dynamic programming and the gradient descent"
   ]
  },
  {
   "cell_type": "code",
   "execution_count": 70,
   "metadata": {},
   "outputs": [
    {
     "name": "stdout",
     "output_type": "stream",
     "text": [
      "The cython extension is already loaded. To reload it, use:\n",
      "  %reload_ext cython\n",
      "The line_profiler extension is already loaded. To reload it, use:\n",
      "  %reload_ext line_profiler\n"
     ]
    }
   ],
   "source": [
    "import os\n",
    "import numpy as np\n",
    "from matplotlib import pyplot as plt\n",
    "import itertools\n",
    "import pandas as pd\n",
    "from scipy.optimize import fmin_l_bfgs_b\n",
    "from scipy.optimize import check_grad\n",
    "from scipy.special import logsumexp\n",
    "from Bio import SeqIO\n",
    "import random\n",
    "import multiprocessing\n",
    "import multiprocessing as mp\n",
    "import ctypes\n",
    "%load_ext cython\n",
    "\n",
    "#Load Robert Kern's line profiler\n",
    "%load_ext line_profiler\n",
    "import line_profiler"
   ]
  },
  {
   "cell_type": "code",
   "execution_count": 2,
   "metadata": {},
   "outputs": [],
   "source": [
    "#Set compiler directives (cf. http://docs.cython.org/src/reference/compilation.html)\n",
    "from Cython.Compiler.Options import get_directive_defaults\n",
    "directive_defaults = get_directive_defaults()\n",
    "directive_defaults['linetrace'] = True\n",
    "directive_defaults['binding'] = True"
   ]
  },
  {
   "cell_type": "markdown",
   "metadata": {},
   "source": [
    "### cython"
   ]
  },
  {
   "cell_type": "code",
   "execution_count": 3,
   "metadata": {},
   "outputs": [
    {
     "name": "stderr",
     "output_type": "stream",
     "text": [
      "warning: /home/salma/.cache/ipython/cython/_cython_magic_cafa1fcecc80768ec37282e33376028e.pyx:64:100: cdef variable 'l' declared after it is used\n",
      "warning: /home/salma/.cache/ipython/cython/_cython_magic_cafa1fcecc80768ec37282e33376028e.pyx:64:110: cdef variable 'l_p' declared after it is used\n",
      "warning: /home/salma/.cache/ipython/cython/_cython_magic_cafa1fcecc80768ec37282e33376028e.pyx:67:100: cdef variable 'l' declared after it is used\n",
      "warning: /home/salma/.cache/ipython/cython/_cython_magic_cafa1fcecc80768ec37282e33376028e.pyx:67:110: cdef variable 'l_p' declared after it is used\n"
     ]
    }
   ],
   "source": [
    "%%cython -f -I . --compile-args=-DCYTHON_TRACE=1 \n",
    "\n",
    "\n",
    "cimport cython\n",
    "import numpy as np\n",
    "import itertools\n",
    "from libc.math cimport exp,pow\n",
    "\n",
    "\n",
    "cdef int l = 3 #l_A=l_B=3 nucleotides\n",
    "cdef int l_p = 3 #persistence length is 3 nucleotides \n",
    "cdef double cpi = np.pi\n",
    "\n",
    "cpdef generate_kmer_inx():\n",
    "    cdef dict vals = {'A':0,'C':1,'G':2,'T':3}\n",
    "    cdef dict kmer_inx = {}\n",
    "    \n",
    "    for p in list(itertools.product(vals.keys(), repeat=l)):\n",
    "        inx = 0\n",
    "        for j,base in enumerate(p):\n",
    "            inx += (4**j)*vals[base] \n",
    "        kmer_inx[''.join(p)] = inx\n",
    "    return kmer_inx\n",
    "\n",
    "kmer_inx = generate_kmer_inx()\n",
    "inx_kmer = {y:x for x,y in kmer_inx.items()}\n",
    "\n",
    "cpdef seq2int_cy(str sequence):\n",
    "    cdef int L = len(sequence)\n",
    "    kmer_array = np.zeros(L, dtype=int)\n",
    "    \n",
    "    cdef i\n",
    "    for i in range(l-1,L):\n",
    "        kmer = sequence[i-l+1:i+1]\n",
    "        kmer_array[i] = kmer_inx[kmer]\n",
    "    return kmer_array        \n",
    "\n",
    "\n",
    "cpdef void assign_za_cy(long[:] x, int i, double[:] za, double[:] zb, double[:] Ea, double[:] Eb, double cab, double sf, double D, double sig):\n",
    "    za[i] = (zb[i-l] + np.sum(za[:i-l+1])) * cab * exp(-Ea[x[i]])\n",
    "    \n",
    "cpdef void assign_zb_cy(long[:] x, int i, double[:] za, double[:] zb, double[:] Ea, double[:] Eb, double cab, double sf, double D, double sig):\n",
    "    cdef double z = zb[i-1]\n",
    "    cdef int j\n",
    "\n",
    "    for j in range(0,i-l+1):\n",
    "        z += za[j]*cb_c(i-j-l, sf, D, sig)*exp(-Eb[x[i]])\n",
    "    z += zb[i-l]*cab*np.exp(-Eb[x[i]])      \n",
    "    zb[i] = z \n",
    "\n",
    "\n",
    "cpdef void assign_za_E_derivatives_cy(long[:] x, int i, int inx, double[:] za, double[:] zb,\n",
    "                                 double[:,:] za_Ea_derivatives, double[:,:] zb_Ea_derivatives, double[:,:] za_Eb_derivatives, double[:,:] zb_Eb_derivatives,\n",
    "                                 double[:] Ea, double[:] Eb, double cab, double sf, double D, double sig):\n",
    "    identical = (inx == x[i])\n",
    "    \n",
    "    za_Ea_derivatives[inx,i] = cab*(zb_Ea_derivatives[inx,i-l] + np.sum(za_Ea_derivatives[inx,:i-l+1]))*exp(-Ea[x[i]]) - cab*(zb[i-l] + np.sum(za[:i-l+1]))*identical*exp(-Ea[x[i]])\n",
    "    za_Eb_derivatives[inx,i] = cab*(zb_Eb_derivatives[inx,i-l]+ np.sum(za_Eb_derivatives[inx,:i-l+1]))*exp(-Ea[x[i]])\n",
    "\n",
    "\n",
    "cdef extern from \"src_helper.c\":\n",
    "    pass\n",
    "    \n",
    "cdef extern from \"src_helper.h\":\n",
    "    cdef void assign_zb_E_derivatives_c(long* x, int i, int inx, double* za, double* zb, int L, int l, double l_p,\n",
    "                                 double* za_Ea_derivatives, double* zb_Ea_derivatives, double* za_Eb_derivatives, double* zb_Eb_derivatives,\n",
    "                                 double* Ea, double* Eb, double cab, double sf, double D , double sig)\n",
    "    cdef void assign_za_E_derivatives_c(long* x, int i, int inx, double* za, double* zb, int L, int l, double l_p,\n",
    "                                 double* za_Ea_derivatives, double* zb_Ea_derivatives, double* za_Eb_derivatives, double* zb_Eb_derivatives,\n",
    "                                 double* Ea, double* Eb, double cab, double sf, double D , double sig)\n",
    "    cdef double cb_c(int, double, double, double)\n",
    "    cdef double cb_D_derivative_c(int, double, double, double);\n",
    "    cdef double cb_sig_derivative_c(int, double, double, double);\n",
    "    cdef double cb_sf_derivative_c(int, double, double, double);\n",
    "    \n",
    "    \n",
    "cpdef void assign_za_D_derivative_cy(long[:] x, int i, double[:] za, double[:] zb, \n",
    "                             double[:] za_D_derivatives, double[:] zb_D_derivatives, double[:] Ea, double[:] Eb, \n",
    "                                     double cab, double sf, double D , double sig):\n",
    "    za_D_derivatives[i] = (zb_D_derivatives[i-l]+np.sum(za_D_derivatives[:i-l+1]))*cab*exp(-Ea[x[i]])\n",
    "    \n",
    "\n",
    "cpdef void assign_za_sig_derivative_cy(long[:] x, int i, double[:] za, double[:] zb, \n",
    "                             double[:] za_sig_derivatives, double[:] zb_sig_derivatives, double[:] Ea, double[:] Eb, \n",
    "                                       double cab, double sf, double D , double sig):\n",
    "    za_sig_derivatives[i] = (zb_sig_derivatives[i-l]+np.sum(za_sig_derivatives[:i-l+1]))*cab*exp(-Ea[x[i]])    \n",
    "\n",
    "\n",
    "cpdef void assign_za_sf_derivative_cy(long[:] x, int i, double[:] za, double[:] zb, \n",
    "                             double[:] za_sf_derivatives, double[:] zb_sf_derivatives, double[:] Ea, double[:] Eb, \n",
    "                                      double cab, double sf, double D , double sig):\n",
    "    za_sf_derivatives[i] = (zb_sf_derivatives[i-l]+np.sum(za_sf_derivatives[:i-l+1]))*cab*exp(-Ea[x[i]])    \n",
    "\n",
    "\n",
    "cpdef void assign_zb_D_derivative_cy(long[:] x, int i, double[:] za, double[:] zb, \n",
    "                             double[:] za_D_derivatives, double[:] zb_D_derivatives, double[:] Ea, double[:] Eb, \n",
    "                                     double cab, double sf, double D , double sig):\n",
    "    cdef double der = 0\n",
    "    cdef int j\n",
    "\n",
    "    for j in range(0,i-l+1):\n",
    "        der += za_D_derivatives[j]*cb_c(i-l-j, sf, D, sig) + za[j]*cb_D_derivative_c(i-l-j, sf, D, sig)\n",
    "    der += zb_D_derivatives[i-l]*cab\n",
    "    der *= exp(-Eb[x[i]])\n",
    "    der += zb_D_derivatives[i-1]\n",
    "    \n",
    "    zb_D_derivatives[i] = der\n",
    "    \n",
    "cpdef void assign_zb_sig_derivative_cy(long[:] x, int i, double[:] za, double[:] zb, \n",
    "                             double[:] za_sig_derivatives, double[:] zb_sig_derivatives, double[:] Ea, double[:] Eb, \n",
    "                                       double cab, double sf, double D , double sig):\n",
    "    cdef double der = 0\n",
    "    cdef int j\n",
    "\n",
    "    for j in range(0,i-l+1):\n",
    "        der += za_sig_derivatives[j]*cb_c(i-l-j, sf, D, sig) + za[j]*cb_sig_derivative_c(i-l-j, sf, D, sig)\n",
    "    der += zb_sig_derivatives[i-l]*cab\n",
    "    der *= exp(-Eb[x[i]])\n",
    "    der += zb_sig_derivatives[i-1]\n",
    "    \n",
    "    zb_sig_derivatives[i] = der\n",
    "\n",
    "\n",
    "cpdef void assign_zb_sf_derivative_cy(long[:] x, int i, double[:] za, double[:] zb, \n",
    "                             double[:] za_sf_derivatives, double[:] zb_sf_derivatives, double[:] Ea, double[:] Eb, \n",
    "                                      double cab, double sf, double D , double sig):\n",
    "    cdef double der = 0\n",
    "    cdef int j\n",
    "    for j in range(0,i-l+1):\n",
    "        der += za_sf_derivatives[j]*cb_c(i-l-j, sf, D, sig) + za[j]*cb_sf_derivative_c(i-l-j, sf, D, sig)\n",
    "    der += zb_sf_derivatives[i-l]*cab\n",
    "    der *= exp(-Eb[x[i]])\n",
    "    der += zb_sf_derivatives[i-1]\n",
    "    \n",
    "    zb_sf_derivatives[i] = der\n",
    "\n",
    "    \n",
    "    \n",
    "cpdef void assign_za_cab_derivative_cy(long[:] x, int i, double[:] za, double[:] zb, \n",
    "                                    double[:] za_cab_derivatives, double[:] zb_cab_derivatives, double[:] Ea, double[:] Eb, \n",
    "                                       double cab, double sf, double D , double sig):\n",
    "    za_cab_derivatives[i] = exp(-Ea[x[i]])*((zb_cab_derivatives[i-l]+ np.sum(za_cab_derivatives[:i-l+1]))*cab + zb[i-l] + np.sum(za[:i-l+1]))\n",
    "    \n",
    "cpdef void assign_zb_cab_derivative_cy(long[:] x, int i, double[:] za, double[:] zb, \n",
    "                                    double[:] za_cab_derivatives, double[:] zb_cab_derivatives, double[:] Ea, double[:] Eb, \n",
    "                                       double cab, double sf, double D , double sig):\n",
    "    cdef double der = 0\n",
    "    cdef int j\n",
    "\n",
    "    for j in range(0,i-l+1):\n",
    "        der += za_cab_derivatives[j]*cb_c(i-l-j, sf, D, sig) + za[j]\n",
    "        der += zb_cab_derivatives[j]*cab + zb[j]\n",
    "    der *= exp(-Eb[x[i]])\n",
    "    der += zb_cab_derivatives[i-1]\n",
    "    \n",
    "    zb_cab_derivatives[i] = der\n",
    "    \n",
    "    \n",
    "def DP_Z_cy(double[:] args, long[:] x):\n",
    "    \n",
    "    cdef int L = len(x)\n",
    "    cdef double cab = 1.0\n",
    "\n",
    "    cdef double[:] Ea = args[0:len(kmer_inx)]\n",
    "    cdef double[:] Eb = args[len(kmer_inx):2*len(kmer_inx)]\n",
    "    cdef double sf = args[-3]\n",
    "    cdef double D = args[-2]\n",
    "    cdef double sig = args[-1]\n",
    "    \n",
    "    #initialization of statistical weigths\n",
    "    cdef double[:] za = np.zeros(L)\n",
    "    cdef double[:] zb = np.zeros(L)\n",
    "\n",
    "    cdef int i\n",
    "    for i in range(0,l):\n",
    "        zb[i] = 1 \n",
    "\n",
    "    #initialization of derivatives\n",
    "    cdef double[:,::1] za_Ea_derivatives = np.zeros((len(kmer_inx),L))\n",
    "    cdef double[:,::1] zb_Ea_derivatives = np.zeros((len(kmer_inx),L))\n",
    "\n",
    "    cdef double[:,::1] za_Eb_derivatives = np.zeros((len(kmer_inx),L))\n",
    "    cdef double[:,::1] zb_Eb_derivatives = np.zeros((len(kmer_inx),L))\n",
    "\n",
    "    cdef double[:] za_sf_derivatives = np.zeros(L)\n",
    "    cdef double[:] zb_sf_derivatives = np.zeros(L)\n",
    "    \n",
    "    cdef double[:] za_D_derivatives = np.zeros(L)\n",
    "    cdef double[:] zb_D_derivatives = np.zeros(L)\n",
    "\n",
    "    cdef double[:] za_sig_derivatives = np.zeros(L)\n",
    "    cdef double[:] zb_sig_derivatives = np.zeros(L)\n",
    "\n",
    "\n",
    "    cdef int inx\n",
    "    #dynamic programming calculation of z and derivatives \n",
    "    for i in range(l,L):\n",
    "        #calculate statistical weights\n",
    "        assign_za_cy(x, i, za, zb, Ea, Eb, cab, sf, D, sig)\n",
    "        assign_zb_cy(x, i, za, zb, Ea, Eb, cab, sf, D, sig)\n",
    "        \n",
    "        #calculate derivatives\n",
    "        for inx in range(len(kmer_inx)):\n",
    "            assign_za_E_derivatives_c(&x[0], i, inx, &za[0], &zb[0], L, l, l_p, \n",
    "                                      &za_Ea_derivatives[0,0], &zb_Ea_derivatives[0,0], &za_Eb_derivatives[0,0], &zb_Eb_derivatives[0,0], \n",
    "                                      &Ea[0], &Eb[0], cab, sf, D, sig)\n",
    "            assign_zb_E_derivatives_c(&x[0], i, inx, &za[0], &zb[0], L, l, l_p, \n",
    "                                      &za_Ea_derivatives[0,0], &zb_Ea_derivatives[0,0], &za_Eb_derivatives[0,0], &zb_Eb_derivatives[0,0], \n",
    "                                      &Ea[0], &Eb[0], cab, sf, D, sig)\n",
    "        \n",
    "        \n",
    "        assign_za_sf_derivative_cy(x, i, za, zb, za_sf_derivatives, zb_sf_derivatives, Ea, Eb, cab, sf, D, sig)\n",
    "        assign_zb_sf_derivative_cy(x, i, za, zb, za_sf_derivatives, zb_sf_derivatives, Ea, Eb, cab, sf, D, sig)\n",
    "        \n",
    "        assign_za_D_derivative_cy(x, i, za, zb, za_D_derivatives, zb_D_derivatives, Ea, Eb, cab, sf, D, sig)\n",
    "        assign_zb_D_derivative_cy(x, i, za, zb, za_D_derivatives, zb_D_derivatives, Ea, Eb, cab, sf, D, sig)\n",
    "        \n",
    "        assign_za_sig_derivative_cy(x, i, za, zb, za_sig_derivatives, zb_sig_derivatives, Ea, Eb, cab, sf, D, sig)\n",
    "        assign_zb_sig_derivative_cy(x, i, za, zb, za_sig_derivatives, zb_sig_derivatives, Ea, Eb, cab, sf, D, sig)\n",
    "\n",
    "    \n",
    "    Z_x = zb[L-1] + np.sum(za)\n",
    "    \n",
    "    #derivative of Z(x)\n",
    "    d_Ea = zb_Ea_derivatives[:,L-1] + np.sum(za_Ea_derivatives, axis=1)\n",
    "    d_Eb = zb_Eb_derivatives[:,L-1] + np.sum(za_Eb_derivatives, axis=1)\n",
    "    \n",
    "    d_sf = zb_sf_derivatives[L-1] + np.sum(za_sf_derivatives)\n",
    "    d_D = zb_D_derivatives[L-1] + np.sum(za_D_derivatives)\n",
    "    d_sig = zb_sig_derivatives[L-1] + np.sum(za_sig_derivatives)\n",
    "    \n",
    "    \n",
    "    gradient = np.concatenate([q.ravel() for q in [d_Ea, d_Eb, np.array([d_sf, d_D, d_sig])]])\n",
    "    \n",
    "    return Z_x, gradient"
   ]
  },
  {
   "cell_type": "markdown",
   "metadata": {},
   "source": [
    "### implementation of the LL object"
   ]
  },
  {
   "cell_type": "code",
   "execution_count": 108,
   "metadata": {},
   "outputs": [],
   "source": [
    "class nLL:\n",
    "    def __init__(self, seqs_p, seqs_bg):\n",
    "        \n",
    "        self.N_p = len(seqs_p)\n",
    "        self.N_bg = len(seqs_bg)\n",
    "\n",
    "        #calculate background probabilities:\n",
    "\n",
    "        #include positive sequences in bg sequences if not there\n",
    "        X_bg_t = list(set(seqs_p + seqs_bg))  #number of unique sequences\n",
    "        \n",
    "        counts = np.zeros(len(X_bg_t))\n",
    "        for i, x in enumerate(X_bg_t):\n",
    "            counts[i] = seqs_bg.count(x)\n",
    "            \n",
    "        counts = counts + 1 #pseudocount to make sure \n",
    "        counts = counts/np.sum(counts)\n",
    "\n",
    "        p_bg = dict(zip(X_bg_t, counts))\n",
    "\n",
    "        self.pbg_xp = np.array([p_bg[x] for x in seqs_p])\n",
    "        self.pbg_xbg = np.array([p_bg[xbg] for xbg in seqs_bg])\n",
    "        \n",
    "        #add a padding nucleotide to the beginning to make the calculations stable, binding starts at\n",
    "        #position i=l so the padded nucleotide has no effect.\n",
    "        self.X_p = [seq2int_cy('A' + x) for x in seqs_p] \n",
    "        self.X_bg = [seq2int_cy('A' + x) for x in seqs_bg]\n",
    "\n",
    "        \n",
    "    def assign_z_p(self, tup):\n",
    "            i, args = tup\n",
    "            d_z_x_np = np.frombuffer(dz.get_obj(), dtype=np.float64).reshape(-1, self.N_p)\n",
    "            z[i], d_z_x_np[:,i] = DP_Z_cy(args, self.X_p[i])\n",
    "            \n",
    "    def assign_z_bg(self, tup):\n",
    "            i, args = tup\n",
    "            d_z_xbg_np = np.frombuffer(dz.get_obj(), dtype=np.float64).reshape(-1, self.N_bg)\n",
    "            z[i], d_z_xbg_np[:,i] = DP_Z_cy(args, self.X_bg[i])\n",
    "\n",
    "          \n",
    "\n",
    "        \n",
    "    def __call__(self, parameters):\n",
    "        \n",
    "        #number of positive variables (stacked at the end)\n",
    "        n_pos = 3\n",
    "        \n",
    "        #exp parameters to make sure they are positive\n",
    "        args = parameters.copy()\n",
    "        args[-n_pos:] = np.exp(args[-n_pos:])\n",
    "    \n",
    "    \n",
    "        #define weights and derivatives as a multiprocessing array\n",
    "        z_x = mp.Array(ctypes.c_double, self.N_p)\n",
    "        d_z_x = mp.Array(ctypes.c_double, (2*len(kmer_inx)+ n_pos)*self.N_p)\n",
    "\n",
    "        z_xbg = mp.Array(ctypes.c_double, self.N_bg)\n",
    "        d_z_xbg = mp.Array(ctypes.c_double, (2*len(kmer_inx)+ n_pos)*self.N_bg) \n",
    "        \n",
    "        #parallelizing\n",
    "        with multiprocessing.Pool(initializer=init, initargs=(z_x,d_z_x), processes=8) as pool:\n",
    "            pool.map(self.assign_z_p, [(i, args) for i in range(len(self.X_p))])\n",
    "        with multiprocessing.Pool(initializer=init, initargs=(z_xbg, d_z_xbg), processes=8)  as pool:\n",
    "            pool.map(self.assign_z_bg, [(i, args) for i in range(len(self.X_bg))])\n",
    "        \n",
    "        #= convert to np array ======\n",
    "        d_z_x = np.frombuffer(d_z_x.get_obj(), dtype=np.float64).reshape(-1, self.N_p)\n",
    "        d_z_xbg = np.frombuffer(d_z_xbg.get_obj(), dtype=np.float64).reshape(-1, self.N_bg)\n",
    "        z_x = np.frombuffer(z_x.get_obj(), dtype=np.float64)\n",
    "        z_xbg = np.frombuffer(z_xbg.get_obj(), dtype=np.float64)\n",
    "        #============================\n",
    "        \n",
    "        #calculate log likelihood of model given arg parameters\n",
    "        ll = np.sum(np.log(self.pbg_xp) + np.log(np.ones(self.N_p) - (np.ones(self.N_p)/z_x)))\n",
    "        ll -= self.N_p * logsumexp( np.log(self.pbg_xbg) + np.log(np.ones(self.N_bg) - (np.ones(self.N_bg)/z_xbg)) )\n",
    "        \n",
    "        #calculate partial derivatives of model given arg parameters\n",
    "        dll = np.sum(d_z_x/(z_x*(z_x-1)), axis=1)\n",
    "        dll -= self.N_p * ( np.sum((self.pbg_xbg * d_z_xbg)/(z_xbg*z_xbg), axis=1 ) / np.sum(self.pbg_xbg*(np.ones(self.N_bg) - (np.ones(self.N_bg)/z_xbg))))\n",
    "\n",
    "        #exp modify dLL for positive elements\n",
    "        dll[-n_pos:] = dll[-n_pos:]*args[-n_pos:]\n",
    "\n",
    "        #regularize some parameters\n",
    "        if True:\n",
    "            comp = -3\n",
    "            reg = 1e-6 \n",
    "            ll -= np.power(args[comp],2)*reg\n",
    "            dll[comp] -= 2*reg*args[comp]\n",
    "        #print(\"final ll:\\t%f\"%ll)\n",
    "        return -ll, -dll \n",
    "\n",
    "#make the arrays global to all processes\n",
    "def init(z_array, dz_array):\n",
    "    global z\n",
    "    z = z_array    \n",
    "    global dz\n",
    "    dz = dz_array"
   ]
  },
  {
   "cell_type": "code",
   "execution_count": 111,
   "metadata": {},
   "outputs": [],
   "source": [
    "nll_obj = nLL(plus[:],bg[:])"
   ]
  },
  {
   "cell_type": "code",
   "execution_count": 112,
   "metadata": {},
   "outputs": [
    {
     "name": "stdout",
     "output_type": "stream",
     "text": [
      "2.8 s ± 98.2 ms per loop (mean ± std. dev. of 7 runs, 1 loop each)\n"
     ]
    }
   ],
   "source": [
    "%%timeit\n",
    "nll_obj(parameters)"
   ]
  },
  {
   "cell_type": "code",
   "execution_count": 114,
   "metadata": {},
   "outputs": [
    {
     "data": {
      "text/plain": [
       "5.142857142857143"
      ]
     },
     "execution_count": 114,
     "metadata": {},
     "output_type": "execute_result"
    }
   ],
   "source": [
    "14.4/2.8"
   ]
  },
  {
   "cell_type": "code",
   "execution_count": 113,
   "metadata": {},
   "outputs": [
    {
     "data": {
      "text/plain": [
       "(11923.776281172548,\n",
       " array([-1.66432846, -0.7504278 , -0.46526762, -0.91652181,  1.0775965 ,\n",
       "         0.36521704,  1.1508437 ,  0.26494546,  0.19421479, -2.23689731,\n",
       "        -0.41180329, -1.11258778, -1.16359732, -0.20154932, -7.52626024,\n",
       "         3.6382629 , -9.97326102, -0.33553561, -0.12723398, -0.05891434,\n",
       "        -0.17750136, -0.34185463, -0.51621316, -0.26502416,  3.13370956,\n",
       "        -0.64685342, -2.81504438, -0.06425341, -0.47673245, -1.5396405 ,\n",
       "        -1.54800309,  0.36357865, -1.65011999,  5.64776344, -6.52232789,\n",
       "        -0.82177948, -1.02199147, -0.95196026, -0.24487099, -0.49608936,\n",
       "         1.2917448 , -2.07978095, -0.21500654, -8.53646402, -0.74087075,\n",
       "        -0.9580317 , -3.02107251,  1.02129394, -1.75096918, -1.57177815,\n",
       "        -0.45626894, -0.50845231, -0.16564203, -6.69376256, -1.34291179,\n",
       "        -2.58066867,  0.3872987 , -3.12303035, -0.63805507, -2.8021936 ,\n",
       "         3.1728725 ,  3.85977448,  0.37304372, 49.56234451, -6.81422543,\n",
       "        -3.00216273, -0.19545555, -5.50661192,  0.20584017,  3.29783127,\n",
       "         0.13337847,  1.43758875,  0.18400294, -0.92351684, -0.5085611 ,\n",
       "        -7.90429103, -3.63955661, -5.05857376, -3.06075055,  3.20149054,\n",
       "        -3.03422601, -1.79002223, -2.20735136, -0.11987851, -0.92327636,\n",
       "        -2.90649435, -0.40601306, -4.13394961,  0.50095073, -0.20341908,\n",
       "        -1.39749299, -0.19512259, -2.27087105, -0.46147812, -1.40404179,\n",
       "         3.86004805, -0.98258215, 50.65944708, -0.25592357, -9.53655499,\n",
       "        -0.78592841, -3.82172202, -0.56387283, -0.16178314,  2.00600537,\n",
       "        -1.19270096, -0.32927749, -1.10027743, -4.38048089, -0.30999927,\n",
       "        -1.17349166,  0.05799757, -0.37683088, -2.05205469, -0.17295784,\n",
       "        -0.60410824, -0.25480075, -0.98535324, -0.09187719, -0.30929555,\n",
       "         0.2911179 , -1.15881476, -0.09064437, -0.56720854,  1.09697355,\n",
       "         0.52897516,  4.75735788, 25.78576249, -0.23454139, -0.08395931,\n",
       "         0.07852616]))"
      ]
     },
     "execution_count": 113,
     "metadata": {},
     "output_type": "execute_result"
    }
   ],
   "source": [
    "nll_obj(parameters)"
   ]
  },
  {
   "cell_type": "markdown",
   "metadata": {},
   "source": [
    "### Import fasta files"
   ]
  },
  {
   "cell_type": "code",
   "execution_count": 6,
   "metadata": {},
   "outputs": [],
   "source": [
    "def parse_fasta(file_name):\n",
    "    input_seq_iterator = SeqIO.parse(file_name, \"fasta\")\n",
    "    return [str(record.seq) for record in input_seq_iterator]"
   ]
  },
  {
   "cell_type": "code",
   "execution_count": 7,
   "metadata": {},
   "outputs": [],
   "source": [
    "def swap_cores (args):\n",
    "    core1_args = args[:len(kmer_inx)]\n",
    "    core2_args = args[len(kmer_inx):len(kmer_inx)*2]\n",
    "    return np.concatenate([x.ravel() for x in [core2_args, core1_args, np.array([args[-2], args[-1]])]])"
   ]
  },
  {
   "cell_type": "code",
   "execution_count": 8,
   "metadata": {},
   "outputs": [],
   "source": [
    "if False:\n",
    "    set_size = 100\n",
    "    bg = parse_fasta('HNRNPA0_1_TGTCGA40NCCGA_AAG_1.fasta.tmp')\n",
    "    plus = parse_fasta('HNRNPA0_4_TGTCGA40NCCGA_AAG_4.fasta.tmp')\n",
    "\n",
    "    bg = random.sample(bg, set_size)\n",
    "    plus = random.sample(plus, set_size)\n",
    "    \n",
    "    bg   = [seq.replace('N', random.sample(['A','T','C','G'],1)[0]) for seq in bg]\n",
    "    plus = [seq.replace('N', random.sample(['A','T','C','G'],1)[0]) for seq in plus]\n",
    "    \n",
    "else:\n",
    "    bg = parse_fasta('negatives_toy.fasta')\n",
    "    plus = parse_fasta('positives_toy.fasta')"
   ]
  },
  {
   "cell_type": "code",
   "execution_count": 9,
   "metadata": {},
   "outputs": [],
   "source": [
    "p_array = []\n",
    "def callb(x):\n",
    "    core1 = {}\n",
    "    for i in range(len(kmer_inx)):\n",
    "        core1[inx_kmer[i]] = x[i]\n",
    "\n",
    "    print(pd.Series(core1).sort_values(ascending=True)[:2]) \n",
    "    \n",
    "    core2 = {}\n",
    "    for i in range(len(kmer_inx)):\n",
    "        core2[inx_kmer[i]] = x_opt[i+64]\n",
    "    pd.Series(core2).sort_values(ascending=True)\n",
    "    print(pd.Series(core2).sort_values(ascending=True)[:2])\n",
    "    \n",
    "    print('next iteration ======')\n",
    "    p_array.append(x)"
   ]
  },
  {
   "cell_type": "code",
   "execution_count": 104,
   "metadata": {},
   "outputs": [],
   "source": [
    "np.random.seed(0)\n",
    "Ea = np.random.uniform(low=8, high=12, size=len(kmer_inx))\n",
    "Eb = np.random.uniform(low=8, high=12, size=len(kmer_inx))\n",
    "sf = np.log(100)\n",
    "D = np.log(3)\n",
    "sig = np.log(3)\n",
    "\n",
    "parameters = np.concatenate([x.ravel() for x in [Ea, Eb, np.array([sf, D, sig])]])"
   ]
  },
  {
   "cell_type": "code",
   "execution_count": 18,
   "metadata": {},
   "outputs": [
    {
     "name": "stdout",
     "output_type": "stream",
     "text": [
      "172 ms ± 4.11 ms per loop (mean ± std. dev. of 7 runs, 1 loop each)\n"
     ]
    }
   ],
   "source": [
    "%%timeit\n",
    "nll_obj(parameters)"
   ]
  },
  {
   "cell_type": "code",
   "execution_count": 34,
   "metadata": {},
   "outputs": [
    {
     "name": "stdout",
     "output_type": "stream",
     "text": [
      "175 ms ± 4.6 ms per loop (mean ± std. dev. of 7 runs, 1 loop each)\n"
     ]
    }
   ],
   "source": [
    "%%timeit\n",
    "nll_obj(parameters)"
   ]
  },
  {
   "cell_type": "code",
   "execution_count": 17,
   "metadata": {},
   "outputs": [
    {
     "name": "stderr",
     "output_type": "stream",
     "text": [
      "/home/salma/anaconda3/envs/rbp_motif/lib/python3.6/site-packages/line_profiler.py:321: UserWarning: Could not extract a code object for the object <__main__.nLL object at 0x7fd851f66860>\n",
      "  profile = LineProfiler(*funcs)\n"
     ]
    },
    {
     "name": "stdout",
     "output_type": "stream",
     "text": [
      "\n",
      "*** Profile printout saved to text file 'lprof0'. \n"
     ]
    },
    {
     "data": {
      "text/plain": [
       "Timer unit: 1e-06 s"
      ]
     },
     "metadata": {},
     "output_type": "display_data"
    }
   ],
   "source": [
    "%lprun -T lprof0 -f nll_obj nll_obj(parameters)"
   ]
  },
  {
   "cell_type": "code",
   "execution_count": 24,
   "metadata": {},
   "outputs": [
    {
     "name": "stdout",
     "output_type": "stream",
     "text": [
      "\n",
      "*** Profile printout saved to text file 'lprof0'. \n"
     ]
    },
    {
     "data": {
      "text/plain": [
       "Timer unit: 1e-06 s\n",
       "\n",
       "Total time: 0.044824 s\n",
       "File: /home/salma/.cache/ipython/cython/_cython_magic_e2ebc85239078311a48cd1f94450c1fd.pyx\n",
       "Function: DP_Z_cy at line 158\n",
       "\n",
       "Line #      Hits         Time  Per Hit   % Time  Line Contents\n",
       "==============================================================\n",
       "   158                                           def DP_Z_cy(double[:] args, long[:] x):\n",
       "   159                                               \n",
       "   160         1          8.0      8.0      0.0      cdef int L = len(x)\n",
       "   161         1          4.0      4.0      0.0      cdef double cab = 1.0\n",
       "   162                                           \n",
       "   163         1         13.0     13.0      0.0      cdef double[:] Ea = args[0:len(kmer_inx)]\n",
       "   164         1          3.0      3.0      0.0      cdef double[:] Eb = args[len(kmer_inx):2*len(kmer_inx)]\n",
       "   165         1          3.0      3.0      0.0      cdef double sf = args[-3]\n",
       "   166         1          3.0      3.0      0.0      cdef double D = args[-2]\n",
       "   167         1          2.0      2.0      0.0      cdef double sig = args[-1]\n",
       "   168                                               \n",
       "   169                                               #initialization of statistical weigths\n",
       "   170         1         28.0     28.0      0.1      cdef double[:] za = np.zeros(L)\n",
       "   171         1         24.0     24.0      0.1      cdef double[:] zb = np.zeros(L)\n",
       "   172                                           \n",
       "   173                                               cdef int i\n",
       "   174         1          3.0      3.0      0.0      for i in range(0,l):\n",
       "   175         3          9.0      3.0      0.0          zb[i] = 1 \n",
       "   176                                           \n",
       "   177                                               #initialization of derivatives\n",
       "   178         1        173.0    173.0      0.4      cdef double[:,::1] za_Ea_derivatives = np.zeros((len(kmer_inx),L))\n",
       "   179         1        132.0    132.0      0.3      cdef double[:,::1] zb_Ea_derivatives = np.zeros((len(kmer_inx),L))\n",
       "   180                                           \n",
       "   181         1         40.0     40.0      0.1      cdef double[:,::1] za_Eb_derivatives = np.zeros((len(kmer_inx),L))\n",
       "   182         1         21.0     21.0      0.0      cdef double[:,::1] zb_Eb_derivatives = np.zeros((len(kmer_inx),L))\n",
       "   183                                           \n",
       "   184         1         21.0     21.0      0.0      cdef double[:] za_sf_derivatives = np.zeros(L)\n",
       "   185         1         22.0     22.0      0.0      cdef double[:] zb_sf_derivatives = np.zeros(L)\n",
       "   186                                               \n",
       "   187         1         18.0     18.0      0.0      cdef double[:] za_D_derivatives = np.zeros(L)\n",
       "   188         1         22.0     22.0      0.0      cdef double[:] zb_D_derivatives = np.zeros(L)\n",
       "   189                                           \n",
       "   190         1         20.0     20.0      0.0      cdef double[:] za_sig_derivatives = np.zeros(L)\n",
       "   191         1         16.0     16.0      0.0      cdef double[:] zb_sig_derivatives = np.zeros(L)\n",
       "   192                                           \n",
       "   193                                           \n",
       "   194                                               cdef int inx\n",
       "   195                                               #dynamic programming calculation of z and derivatives \n",
       "   196         1          4.0      4.0      0.0      for i in range(l,L):\n",
       "   197                                                   #calculate statistical weights\n",
       "   198        37       1741.0     47.1      3.9          assign_za_cy(x, i, za, zb, Ea, Eb, cab, sf, D, sig)\n",
       "   199        37        688.0     18.6      1.5          assign_zb_cy(x, i, za, zb, Ea, Eb, cab, sf, D, sig)\n",
       "   200                                                   \n",
       "   201                                                   #calculate derivatives\n",
       "   202        37         71.0      1.9      0.2          for inx in range(len(kmer_inx)):\n",
       "   203      4736       7908.0      1.7     17.6              assign_za_E_derivatives_c(&x[0], i, inx, &za[0], &zb[0], L, l, l_p, \n",
       "   204      2368       3895.0      1.6      8.7                                        &za_Ea_derivatives[0,0], &zb_Ea_derivatives[0,0], &za_Eb_derivatives[0,0], &zb_Eb_derivatives[0,0], \n",
       "   205      2368       3833.0      1.6      8.6                                        &Ea[0], &Eb[0], cab, sf, D, sig)\n",
       "   206      4736      10874.0      2.3     24.3              assign_zb_E_derivatives_c(&x[0], i, inx, &za[0], &zb[0], L, l, l_p, \n",
       "   207      2368       3881.0      1.6      8.7                                        &za_Ea_derivatives[0,0], &zb_Ea_derivatives[0,0], &za_Eb_derivatives[0,0], &zb_Eb_derivatives[0,0], \n",
       "   208      2368       3854.0      1.6      8.6                                        &Ea[0], &Eb[0], cab, sf, D, sig)\n",
       "   209                                                   \n",
       "   210                                                   \n",
       "   211        37       2550.0     68.9      5.7          assign_za_sf_derivative_cy(x, i, za, zb, za_sf_derivatives, zb_sf_derivatives, Ea, Eb, cab, sf, D, sig)\n",
       "   212        37        441.0     11.9      1.0          assign_zb_sf_derivative_cy(x, i, za, zb, za_sf_derivatives, zb_sf_derivatives, Ea, Eb, cab, sf, D, sig)\n",
       "   213                                                   \n",
       "   214        37       1604.0     43.4      3.6          assign_za_D_derivative_cy(x, i, za, zb, za_D_derivatives, zb_D_derivatives, Ea, Eb, cab, sf, D, sig)\n",
       "   215        37        462.0     12.5      1.0          assign_zb_D_derivative_cy(x, i, za, zb, za_D_derivatives, zb_D_derivatives, Ea, Eb, cab, sf, D, sig)\n",
       "   216                                                   \n",
       "   217        37       1557.0     42.1      3.5          assign_za_sig_derivative_cy(x, i, za, zb, za_sig_derivatives, zb_sig_derivatives, Ea, Eb, cab, sf, D, sig)\n",
       "   218        37        495.0     13.4      1.1          assign_zb_sig_derivative_cy(x, i, za, zb, za_sig_derivatives, zb_sig_derivatives, Ea, Eb, cab, sf, D, sig)\n",
       "   219                                                   \n",
       "   220                                               #print(np.asarray(za))\n",
       "   221                                               #print(np.asarray(zb))\n",
       "   222                                               \n",
       "   223         1         32.0     32.0      0.1      Z_x = zb[L-1] + np.sum(za)\n",
       "   224                                               \n",
       "   225                                               #derivative of Z(x)\n",
       "   226         1         86.0     86.0      0.2      d_Ea = zb_Ea_derivatives[:,L-1] + np.sum(za_Ea_derivatives, axis=1)\n",
       "   227         1         65.0     65.0      0.1      d_Eb = zb_Eb_derivatives[:,L-1] + np.sum(za_Eb_derivatives, axis=1)\n",
       "   228                                               \n",
       "   229         1         34.0     34.0      0.1      d_sf = zb_sf_derivatives[L-1] + np.sum(za_sf_derivatives)\n",
       "   230         1         28.0     28.0      0.1      d_D = zb_D_derivatives[L-1] + np.sum(za_D_derivatives)\n",
       "   231         1         29.0     29.0      0.1      d_sig = zb_sig_derivatives[L-1] + np.sum(za_sig_derivatives)\n",
       "   232                                               \n",
       "   233                                               \n",
       "   234         1         59.0     59.0      0.1      gradient = np.concatenate([q.ravel() for q in [d_Ea, d_Eb, np.array([d_sf, d_D, d_sig])]])\n",
       "   235                                               \n",
       "   236         1         48.0     48.0      0.1      return Z_x, gradient"
      ]
     },
     "metadata": {},
     "output_type": "display_data"
    }
   ],
   "source": [
    "#%lprun -T lprof0 -f DP_Z_cy DP_Z_cy(parameters, seq2int_cy(plus[0]))"
   ]
  },
  {
   "cell_type": "code",
   "execution_count": 21,
   "metadata": {},
   "outputs": [
    {
     "name": "stdout",
     "output_type": "stream",
     "text": [
      "component 0\n",
      "0.0\n",
      "0.0\n",
      "component 127\n",
      "-0.00013661644038265308\n",
      "-0.00013661643089069622\n",
      "component 128\n",
      "4.9238391142125686e-08\n",
      "4.9221867283524847e-08\n",
      "component 129\n",
      "9.86766224286839e-08\n",
      "9.87268101479782e-08\n",
      "component 130\n",
      "-6.508127370352668e-08\n",
      "-6.508425866948812e-08\n"
     ]
    }
   ],
   "source": [
    "param = parameters\n",
    "intrep = seq2int_cy(plus[20])\n",
    "\n",
    "for comp in [0,127,128,129,130]:\n",
    "    epsilon = 1e-5\n",
    "    x_fwd = param.copy()\n",
    "    x_fwd[comp] += epsilon\n",
    "    x_rev = param.copy()\n",
    "    x_rev[comp] -= epsilon\n",
    "\n",
    "    fx_fwd = DP_Z_cy(x_fwd, intrep)[0]\n",
    "    fx_rev = DP_Z_cy(x_rev, intrep)[0]\n",
    "    \n",
    "    print('component %d'%comp)\n",
    "    print((fx_fwd - fx_rev)/(2*epsilon))\n",
    "    print(DP_Z_cy(param, intrep)[1][comp])"
   ]
  },
  {
   "cell_type": "code",
   "execution_count": 23,
   "metadata": {},
   "outputs": [
    {
     "name": "stdout",
     "output_type": "stream",
     "text": [
      "component 0\t, 1=73.787589, 2=73.787589\n",
      "0.05244743306320743\n",
      "0.05244675990695298\n",
      "component 127\t, 1=73.787589, 2=73.787589\n",
      "0.6708569344482385\n",
      "0.6708735725800907\n",
      "component 128\t, 1=73.787589, 2=73.787589\n",
      "0.020000143763354572\n",
      "0.00020000000000004343\n",
      "component 129\t, 1=73.787589, 2=73.787589\n",
      "-3.552713678800501e-07\n",
      "9.107298248878239e-18\n",
      "component 130\t, 1=73.787589, 2=73.787589\n",
      "2.842170943040401e-07\n",
      "-1.3010426069826055e-17\n"
     ]
    }
   ],
   "source": [
    "param = np.log(parameters)\n",
    "param = parameters\n",
    "for comp in [0, 127,128,129,130]:\n",
    "    epsilon = 1e-7\n",
    "    x_fwd = param.copy()\n",
    "    x_fwd[comp] += epsilon\n",
    "    x_rev = param.copy()\n",
    "    x_rev[comp] -= epsilon\n",
    "\n",
    "    fx_fwd = nll_obj(x_fwd)[0]\n",
    "    fx_rev = nll_obj(x_rev)[0]\n",
    "    \n",
    "    print('component %d\\t, 1=%f, 2=%f'%(comp, fx_fwd, nll_obj(param)[0]))\n",
    "    print((fx_fwd - fx_rev)/(2*epsilon))\n",
    "    print(nll_obj(param)[1][comp])"
   ]
  },
  {
   "cell_type": "markdown",
   "metadata": {},
   "source": [
    "### optimization"
   ]
  },
  {
   "cell_type": "code",
   "execution_count": 143,
   "metadata": {},
   "outputs": [],
   "source": [
    "nll_obj = nLL(plus[:],bg[:])"
   ]
  },
  {
   "cell_type": "code",
   "execution_count": 136,
   "metadata": {},
   "outputs": [
    {
     "data": {
      "text/plain": [
       "(10762.132756694307,\n",
       " array([-2.43838993e-188, -1.43548797e-009, -4.36820392e-007,\n",
       "        -8.79197854e-012, -0.00000000e+000, -0.00000000e+000,\n",
       "        -0.00000000e+000, -0.00000000e+000, -0.00000000e+000,\n",
       "        -5.17918883e-025, -5.23631474e-007, -1.14425774e-015,\n",
       "        -1.39215471e-011,  4.69984208e-017, -5.11358298e-010,\n",
       "        -1.60404660e-012, -5.27760648e-006, -2.68120169e-006,\n",
       "        -3.23605253e-080, -2.36217542e-072, -6.82879528e-219,\n",
       "        -0.00000000e+000, -0.00000000e+000, -4.19366858e-007,\n",
       "        -0.00000000e+000, -6.12813106e-008,  4.80864058e-005,\n",
       "         8.68714346e-006, -6.51063363e-028, -1.53136644e-019,\n",
       "        -4.14529667e-020, -8.55977640e-010,  4.31776434e-009,\n",
       "        -0.00000000e+000, -6.33438616e-006, -1.27008259e-234,\n",
       "        -9.98289744e-018, -0.00000000e+000, -0.00000000e+000,\n",
       "        -1.89043326e-009, -0.00000000e+000, -3.31379332e-160,\n",
       "        -0.00000000e+000, -6.30121288e-006, -0.00000000e+000,\n",
       "        -3.64920765e-006, -1.15266654e-005, -1.24270603e-007,\n",
       "        -0.00000000e+000, -0.00000000e+000, -1.51219212e-023,\n",
       "        -8.98832162e-010, -0.00000000e+000, -2.50072135e-009,\n",
       "        -0.00000000e+000, -7.49671347e-013, -0.00000000e+000,\n",
       "        -2.93850721e-014, -1.93394927e-242, -0.00000000e+000,\n",
       "        -1.16447068e-007, -4.13596512e-014, -6.47457005e-006,\n",
       "        -7.81657516e-004, -1.88657620e-042, -3.80391898e-006,\n",
       "        -0.00000000e+000, -2.11668556e-010, -0.00000000e+000,\n",
       "        -0.00000000e+000, -0.00000000e+000, -0.00000000e+000,\n",
       "        -0.00000000e+000, -0.00000000e+000, -6.43996681e-008,\n",
       "        -9.06290789e-010, -0.00000000e+000,  5.78968897e-008,\n",
       "        -1.49932142e-014, -0.00000000e+000, -0.00000000e+000,\n",
       "        -0.00000000e+000, -1.99809562e-133, -0.00000000e+000,\n",
       "        -1.25010379e-010, -1.74955261e-006,  1.17656912e-004,\n",
       "        -2.54589432e-007, -0.00000000e+000, -0.00000000e+000,\n",
       "         2.68421150e-005,  1.55682302e-004, -1.58941342e-038,\n",
       "        -7.93974687e-012, -2.50137154e-035, -0.00000000e+000,\n",
       "         4.66148633e-004, -1.03458893e-004, -0.00000000e+000,\n",
       "        -1.77620155e-006, -4.87100692e-076, -0.00000000e+000,\n",
       "        -0.00000000e+000, -0.00000000e+000, -0.00000000e+000,\n",
       "        -0.00000000e+000,  1.31975987e-004, -1.11362476e-055,\n",
       "        -0.00000000e+000, -4.25518943e-019, -1.03475108e-005,\n",
       "        -2.77577727e-013, -8.46965045e-007, -4.51932407e-006,\n",
       "        -0.00000000e+000, -1.62564200e-105, -5.50629363e-021,\n",
       "        -6.07608290e-011, -1.21243733e-007, -1.48824403e-013,\n",
       "        -0.00000000e+000, -0.00000000e+000, -2.31690434e-026,\n",
       "        -6.65039779e-022, -1.01298700e-004, -1.77413466e-008,\n",
       "        -6.20380468e-008, -0.00000000e+000, -0.00000000e+000,\n",
       "        -0.00000000e+000, -0.00000000e+000]))"
      ]
     },
     "execution_count": 136,
     "metadata": {},
     "output_type": "execute_result"
    }
   ],
   "source": [
    "nll_obj(x_opt)"
   ]
  },
  {
   "cell_type": "code",
   "execution_count": null,
   "metadata": {},
   "outputs": [
    {
     "name": "stdout",
     "output_type": "stream",
     "text": [
      "final ll:\t-12029.782352\n",
      "final ll:\t-11947.724499\n",
      "final ll:\t-11263.221551\n",
      "final ll:\t-12080.285799\n",
      "final ll:\t-11303.367192\n",
      "final ll:\t-11239.488776\n",
      "TTT    3.960656\n",
      "ACA    7.534279\n",
      "dtype: float64\n",
      "CAG    15.934364\n",
      "ATT    19.855461\n",
      "dtype: float64\n",
      "next iteration ======\n",
      "final ll:\t-11220.152125\n",
      "TTT    4.050875\n",
      "ACA    7.060870\n",
      "dtype: float64\n",
      "CAG    15.934364\n",
      "ATT    19.855461\n",
      "dtype: float64\n",
      "next iteration ======\n",
      "final ll:\t-11874.414236\n",
      "final ll:\t-11212.952036\n",
      "TTT    3.917881\n",
      "ACA    6.875318\n",
      "dtype: float64\n",
      "CAG    15.934364\n",
      "ATT    19.855461\n",
      "dtype: float64\n",
      "next iteration ======\n",
      "final ll:\t-11196.728916\n",
      "TTT    3.476117\n",
      "ACA    6.405373\n",
      "dtype: float64\n",
      "CAG    15.934364\n",
      "ATT    19.855461\n",
      "dtype: float64\n",
      "next iteration ======\n",
      "final ll:\t-11188.232978\n",
      "TTT    3.183166\n",
      "ACA    5.713168\n",
      "dtype: float64\n",
      "CAG    15.934364\n",
      "ATT    19.855461\n",
      "dtype: float64\n",
      "next iteration ======\n"
     ]
    }
   ],
   "source": [
    "x_opt, fx, info = fmin_l_bfgs_b(nll_obj, x0=parameters, callback=callb, factr=1e-5, iprint=5)"
   ]
  },
  {
   "cell_type": "code",
   "execution_count": 132,
   "metadata": {},
   "outputs": [
    {
     "data": {
      "text/plain": [
       "{'grad': array([-2.43838993e-188, -1.43548797e-009, -4.36820392e-007,\n",
       "        -8.79197854e-012, -0.00000000e+000, -0.00000000e+000,\n",
       "        -0.00000000e+000, -0.00000000e+000, -0.00000000e+000,\n",
       "        -5.17918883e-025, -5.23631474e-007, -1.14425774e-015,\n",
       "        -1.39215471e-011,  4.69984208e-017, -5.11358298e-010,\n",
       "        -1.60404660e-012, -5.27760648e-006, -2.68120169e-006,\n",
       "        -3.23605253e-080, -2.36217542e-072, -6.82879528e-219,\n",
       "        -0.00000000e+000, -0.00000000e+000, -4.19366858e-007,\n",
       "        -0.00000000e+000, -6.12813106e-008,  4.80864058e-005,\n",
       "         8.68714346e-006, -6.51063363e-028, -1.53136644e-019,\n",
       "        -4.14529667e-020, -8.55977640e-010,  4.31776434e-009,\n",
       "        -0.00000000e+000, -6.33438616e-006, -1.27008259e-234,\n",
       "        -9.98289744e-018, -0.00000000e+000, -0.00000000e+000,\n",
       "        -1.89043326e-009, -0.00000000e+000, -3.31379332e-160,\n",
       "        -0.00000000e+000, -6.30121288e-006, -0.00000000e+000,\n",
       "        -3.64920765e-006, -1.15266654e-005, -1.24270603e-007,\n",
       "        -0.00000000e+000, -0.00000000e+000, -1.51219212e-023,\n",
       "        -8.98832162e-010, -0.00000000e+000, -2.50072135e-009,\n",
       "        -0.00000000e+000, -7.49671347e-013, -0.00000000e+000,\n",
       "        -2.93850721e-014, -1.93394927e-242, -0.00000000e+000,\n",
       "        -1.16447068e-007, -4.13596512e-014, -6.47457005e-006,\n",
       "        -7.81657516e-004, -1.88657620e-042, -3.80391898e-006,\n",
       "        -0.00000000e+000, -2.11668556e-010, -0.00000000e+000,\n",
       "        -0.00000000e+000, -0.00000000e+000, -0.00000000e+000,\n",
       "        -0.00000000e+000, -0.00000000e+000, -6.43996681e-008,\n",
       "        -9.06290789e-010, -0.00000000e+000,  5.78968897e-008,\n",
       "        -1.49932142e-014, -0.00000000e+000, -0.00000000e+000,\n",
       "        -0.00000000e+000, -1.99809562e-133, -0.00000000e+000,\n",
       "        -1.25010379e-010, -1.74955261e-006,  1.17656912e-004,\n",
       "        -2.54589432e-007, -0.00000000e+000, -0.00000000e+000,\n",
       "         2.68421150e-005,  1.55682302e-004, -1.58941342e-038,\n",
       "        -7.93974687e-012, -2.50137154e-035, -0.00000000e+000,\n",
       "         4.66148633e-004, -1.03458893e-004, -0.00000000e+000,\n",
       "        -1.77620155e-006, -4.87100692e-076, -0.00000000e+000,\n",
       "        -0.00000000e+000, -0.00000000e+000, -0.00000000e+000,\n",
       "        -0.00000000e+000,  1.31975987e-004, -1.11362476e-055,\n",
       "        -0.00000000e+000, -4.25518943e-019, -1.03475108e-005,\n",
       "        -2.77577727e-013, -8.46965045e-007, -4.51932407e-006,\n",
       "        -0.00000000e+000, -1.62564200e-105, -5.50629363e-021,\n",
       "        -6.07608290e-011, -1.21243733e-007, -1.48824403e-013,\n",
       "        -0.00000000e+000, -0.00000000e+000, -2.31690434e-026,\n",
       "        -6.65039779e-022, -1.01298700e-004, -1.77413466e-008,\n",
       "        -6.20380468e-008, -0.00000000e+000, -0.00000000e+000,\n",
       "        -0.00000000e+000, -0.00000000e+000]),\n",
       " 'task': b'ABNORMAL_TERMINATION_IN_LNSRCH',\n",
       " 'funcalls': 683,\n",
       " 'nit': 400,\n",
       " 'warnflag': 2}"
      ]
     },
     "execution_count": 132,
     "metadata": {},
     "output_type": "execute_result"
    }
   ],
   "source": [
    "info"
   ]
  },
  {
   "cell_type": "code",
   "execution_count": 133,
   "metadata": {},
   "outputs": [
    {
     "data": {
      "text/plain": [
       "array([  0.        , 274.69876301,   1.50312961])"
      ]
     },
     "execution_count": 133,
     "metadata": {},
     "output_type": "execute_result"
    }
   ],
   "source": [
    "np.exp(x_opt[-3:])"
   ]
  },
  {
   "cell_type": "code",
   "execution_count": 134,
   "metadata": {},
   "outputs": [
    {
     "data": {
      "text/plain": [
       "TTT       15.745735\n",
       "GGC       20.736311\n",
       "TGC       24.264608\n",
       "ATT       26.623853\n",
       "GTG       29.507769\n",
       "           ...     \n",
       "CAT    20582.429169\n",
       "CCC    20587.266985\n",
       "AGG    21012.819731\n",
       "AGC    34125.421585\n",
       "GCA    67359.040698\n",
       "Length: 64, dtype: float64"
      ]
     },
     "execution_count": 134,
     "metadata": {},
     "output_type": "execute_result"
    }
   ],
   "source": [
    "core1 = {}\n",
    "for i in range(len(kmer_inx)):\n",
    "    core1[inx_kmer[i]] = x_opt[i]\n",
    "\n",
    "pd.Series(core1).sort_values(ascending=True)"
   ]
  },
  {
   "cell_type": "code",
   "execution_count": 135,
   "metadata": {},
   "outputs": [
    {
     "data": {
      "text/plain": [
       "CAG       15.934364\n",
       "ATT       19.855461\n",
       "GGG       20.591120\n",
       "GGC       21.319339\n",
       "TGC       21.378634\n",
       "           ...     \n",
       "CCA    21764.177260\n",
       "CCG    21948.297360\n",
       "AGG    25356.048772\n",
       "AGT    27048.038192\n",
       "CGG    40098.271539\n",
       "Length: 64, dtype: float64"
      ]
     },
     "execution_count": 135,
     "metadata": {},
     "output_type": "execute_result"
    }
   ],
   "source": [
    "core2 = {}\n",
    "for i in range(len(kmer_inx)):\n",
    "    core2[inx_kmer[i]] = x_opt[i+64]\n",
    "pd.Series(core2).sort_values(ascending=True)"
   ]
  },
  {
   "cell_type": "code",
   "execution_count": null,
   "metadata": {},
   "outputs": [],
   "source": []
  },
  {
   "cell_type": "markdown",
   "metadata": {},
   "source": [
    "### debug mode"
   ]
  },
  {
   "cell_type": "code",
   "execution_count": 18,
   "metadata": {},
   "outputs": [],
   "source": [
    "def set_kmer_arg (args, kmer, domain, value):\n",
    "    inx = kmer_inx[kmer]\n",
    "    inx = inx + (domain-1)*len(kmer_inx)\n",
    "    args_m = args\n",
    "    args_m[inx] = value\n",
    "    return args_m"
   ]
  },
  {
   "cell_type": "code",
   "execution_count": 38,
   "metadata": {},
   "outputs": [],
   "source": [
    "Ea = np.zeros(len(kmer_inx)) + 8\n",
    "Eb = np.zeros(len(kmer_inx)) + 8\n",
    "sf=10000\n",
    "D=3\n",
    "sig=1\n",
    "\n",
    "parameters = np.concatenate([x.ravel() for x in [Ea, Eb, np.array([sf, D, sig])]])\n",
    "\n",
    "\n",
    "parameters = set_kmer_arg(parameters, 'TTT', 1, 0.1)\n",
    "parameters = set_kmer_arg(parameters, 'TTT', 2, 0.1)\n",
    "#parameters = set_kmer_arg(parameters, 'AAA', 1, 3)\n",
    "#parameters = set_kmer_arg(parameters, 'AAA', 2, 3)"
   ]
  },
  {
   "cell_type": "code",
   "execution_count": 314,
   "metadata": {},
   "outputs": [
    {
     "data": {
      "text/plain": [
       "100"
      ]
     },
     "execution_count": 314,
     "metadata": {},
     "output_type": "execute_result"
    }
   ],
   "source": []
  },
  {
   "cell_type": "code",
   "execution_count": 85,
   "metadata": {},
   "outputs": [
    {
     "ename": "SyntaxError",
     "evalue": "name 'value' is parameter and global (<ipython-input-85-ae802292acc9>, line 9)",
     "output_type": "error",
     "traceback": [
      "\u001b[0;36m  File \u001b[0;32m\"<ipython-input-85-ae802292acc9>\"\u001b[0;36m, line \u001b[0;32m9\u001b[0m\n\u001b[0;31m    value = value + i\u001b[0m\n\u001b[0m           ^\u001b[0m\n\u001b[0;31mSyntaxError\u001b[0m\u001b[0;31m:\u001b[0m name 'value' is parameter and global\n"
     ]
    }
   ],
   "source": [
    "from multiprocessing.pool import Pool\n",
    "\n",
    "val = mp.Value('i')\n",
    "def initializer(value):\n",
    "    # The identity function\n",
    "    global value\n",
    "\n",
    "def count_bits(i):\n",
    "    value = value + i\n",
    "\n",
    "with Pool(initializer=initializer, initargs=(val,)) as pool:\n",
    "    pool.map(count_bits, [1, 2, 3, 4, 1, 2, 3, 4])\n",
    "    "
   ]
  },
  {
   "cell_type": "code",
   "execution_count": 82,
   "metadata": {},
   "outputs": [
    {
     "ename": "TypeError",
     "evalue": "__init__() got an unexpected keyword argument 'expect_initret'",
     "output_type": "error",
     "traceback": [
      "\u001b[0;31m---------------------------------------------------------------------------\u001b[0m",
      "\u001b[0;31mTypeError\u001b[0m                                 Traceback (most recent call last)",
      "\u001b[0;32m<ipython-input-82-a8e4239a58fb>\u001b[0m in \u001b[0;36m<module>\u001b[0;34m\u001b[0m\n\u001b[1;32m      1\u001b[0m \u001b[0mint_ls\u001b[0m \u001b[0;34m=\u001b[0m \u001b[0;34m[\u001b[0m\u001b[0;36m1\u001b[0m\u001b[0;34m,\u001b[0m \u001b[0;36m2\u001b[0m\u001b[0;34m,\u001b[0m \u001b[0;36m3\u001b[0m\u001b[0;34m,\u001b[0m \u001b[0;36m4\u001b[0m\u001b[0;34m,\u001b[0m \u001b[0;36m1\u001b[0m\u001b[0;34m,\u001b[0m \u001b[0;36m2\u001b[0m\u001b[0;34m,\u001b[0m \u001b[0;36m3\u001b[0m\u001b[0;34m,\u001b[0m \u001b[0;36m4\u001b[0m\u001b[0;34m]\u001b[0m\u001b[0;34m\u001b[0m\u001b[0;34m\u001b[0m\u001b[0m\n\u001b[0;32m----> 2\u001b[0;31m \u001b[0mparallel_bit_counter\u001b[0m\u001b[0;34m(\u001b[0m\u001b[0mint_ls\u001b[0m\u001b[0;34m)\u001b[0m\u001b[0;34m\u001b[0m\u001b[0;34m\u001b[0m\u001b[0m\n\u001b[0m",
      "\u001b[0;32m<ipython-input-80-1f1eac7022b1>\u001b[0m in \u001b[0;36mparallel_bit_counter\u001b[0;34m(int_ls)\u001b[0m\n\u001b[1;32m     14\u001b[0m     with Pool(initializer,\n\u001b[1;32m     15\u001b[0m               \u001b[0minitargs\u001b[0m\u001b[0;34m=\u001b[0m\u001b[0;34m(\u001b[0m\u001b[0mbig_int_to_binary_cache\u001b[0m\u001b[0;34m,\u001b[0m\u001b[0;34m)\u001b[0m\u001b[0;34m,\u001b[0m\u001b[0;34m\u001b[0m\u001b[0;34m\u001b[0m\u001b[0m\n\u001b[0;32m---> 16\u001b[0;31m               expect_initret=True) as p:\n\u001b[0m\u001b[1;32m     17\u001b[0m         return sum(\n\u001b[1;32m     18\u001b[0m             p.imap_unordered(count_bits, int_ls))\n",
      "\u001b[0;31mTypeError\u001b[0m: __init__() got an unexpected keyword argument 'expect_initret'"
     ]
    }
   ],
   "source": [
    "int_ls = [1, 2, 3, 4, 1, 2, 3, 4]\n",
    "parallel_bit_counter(int_ls)"
   ]
  },
  {
   "cell_type": "code",
   "execution_count": null,
   "metadata": {},
   "outputs": [],
   "source": []
  },
  {
   "cell_type": "code",
   "execution_count": null,
   "metadata": {},
   "outputs": [],
   "source": []
  }
 ],
 "metadata": {
  "kernelspec": {
   "display_name": "Python [conda env:rbp_motif]",
   "language": "python",
   "name": "conda-env-rbp_motif-py"
  },
  "language_info": {
   "codemirror_mode": {
    "name": "ipython",
    "version": 3
   },
   "file_extension": ".py",
   "mimetype": "text/x-python",
   "name": "python",
   "nbconvert_exporter": "python",
   "pygments_lexer": "ipython3",
   "version": "3.6.7"
  }
 },
 "nbformat": 4,
 "nbformat_minor": 2
}
