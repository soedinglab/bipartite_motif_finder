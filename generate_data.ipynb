{
 "cells": [
  {
   "cell_type": "markdown",
   "metadata": {},
   "source": [
    "## Generate artificial data with implanted motifs"
   ]
  },
  {
   "cell_type": "code",
   "execution_count": 1,
   "metadata": {},
   "outputs": [],
   "source": [
    "import numpy as np\n",
    "import os\n",
    "import pandas as pd\n",
    "from Bio import SeqIO\n",
    "import random\n",
    "import itertools"
   ]
  },
  {
   "cell_type": "markdown",
   "metadata": {},
   "source": [
    "#### set motif parameters"
   ]
  },
  {
   "cell_type": "code",
   "execution_count": 2,
   "metadata": {},
   "outputs": [],
   "source": [
    "append = False\n",
    "\n",
    "alphabet = ['A','C','G','T']\n",
    "random_3mers = [''.join(p) for p in itertools.product(alphabet, repeat=3)]\n",
    "\n",
    "core1 = ['TAG']\n",
    "core2 = ['ACT']\n",
    "l = 3\n",
    "r = 40\n",
    "p = 0.8\n",
    "\n",
    "#alphabet2 = ['A']\n",
    "seq_length = 40\n",
    "no_sequences = 15000  #positive and negative\n",
    "ratio_with_motif = 1"
   ]
  },
  {
   "cell_type": "markdown",
   "metadata": {},
   "source": [
    "#### generate sequences"
   ]
  },
  {
   "cell_type": "code",
   "execution_count": 3,
   "metadata": {},
   "outputs": [],
   "source": [
    "def generate_sequences(no_sequences):\n",
    "    no_motifs = int(no_sequences*ratio_with_motif)\n",
    "    #generate random sequences \n",
    "    positive_sequences = [''.join([random.choice(alphabet) for i in range(seq_length)]) for j in range(no_sequences)]\n",
    "    negative_sequences = [''.join([random.choice(alphabet) for i in range(seq_length)]) for j in range(no_sequences)]\n",
    "\n",
    "    #assume one motif per sequence\n",
    "    seqs_to_insert = random.sample(range(no_sequences),no_motifs) #select sequences for motif insertion\n",
    "\n",
    "    for i in seqs_to_insert:\n",
    "        seq = positive_sequences[i]\n",
    "\n",
    "        dist = np.random.negative_binomial(r, p, 1)[0]  #motif distances\n",
    "        ins = random.choice(range(0, max(1,seq_length-l*2-dist)))  #insertion position\n",
    "        c1 = random.choice(core1)    #select core 1 \n",
    "        c2 = random.choice(core2)    #select core 2\n",
    "\n",
    "        seq = list(seq)   #convert to list for indexing\n",
    "        for pos in range(len(c1)):  #insert core 1\n",
    "            if pos + ins < len(seq):\n",
    "                seq[pos+ins] = c1[pos]\n",
    "\n",
    "        for pos in range(len(c2)):   #insert core 2\n",
    "            if pos + ins + dist + len(c1) < len(seq):\n",
    "                seq[pos+ins+dist+len(c1)] = c2[pos]\n",
    "\n",
    "        seq = ''.join(seq)\n",
    "\n",
    "        positive_sequences[i] = seq\n",
    "    \n",
    "    return positive_sequences, negative_sequences"
   ]
  },
  {
   "cell_type": "markdown",
   "metadata": {},
   "source": [
    "#### save sequences as fasta or fastq files"
   ]
  },
  {
   "cell_type": "code",
   "execution_count": 4,
   "metadata": {},
   "outputs": [],
   "source": [
    "def write_seqs(positive_sequences, negative_sequences, file_pos, file_neg):\n",
    "    #write positives to file\n",
    "    with open(file_pos, 'a' if append else 'w') as f:\n",
    "        for i, seq in enumerate(positive_sequences):\n",
    "            print('> header', i+1, file=f)\n",
    "            print(seq, file=f)\n",
    "\n",
    "    #write negatives to file\n",
    "    with open(file_neg, 'w') as f:\n",
    "        for i, seq in enumerate(negative_sequences):\n",
    "            print('> header', i+1, file=f)\n",
    "            print(seq, file=f)"
   ]
  },
  {
   "cell_type": "code",
   "execution_count": 5,
   "metadata": {},
   "outputs": [],
   "source": [
    "def write_seqs_fastq(positive_sequences, negative_sequences, file_pos, file_neg):\n",
    "    #write positives to file\n",
    "    with open(file_pos + '.fastq', 'a' if append else 'w') as f:\n",
    "        for i, seq in enumerate(positive_sequences):\n",
    "            print('@header', i+1, file=f)\n",
    "            print(seq, file=f)\n",
    "            print('+', file=f)\n",
    "            print(''.join(['~']*len(seq)), file=f)\n",
    "\n",
    "    #write negatives to file\n",
    "    with open(file_neg + '.fastq', 'w') as f:\n",
    "        for i, seq in enumerate(negative_sequences):\n",
    "            print('@header', i+1, file=f)\n",
    "            print(seq, file=f)\n",
    "            print('+', file=f)\n",
    "            print(''.join(['~']*len(seq)), file=f)\n",
    "            \n",
    "def write_seqs_fasta(positive_sequences, negative_sequences, file_pos, file_neg):\n",
    "    #write positives to file\n",
    "    with open(file_pos + '.fasta', 'a' if append else 'w') as f:\n",
    "        for i, seq in enumerate(positive_sequences):\n",
    "            print('>header', i+1, file=f)\n",
    "            print(seq, file=f)\n",
    "\n",
    "    #write negatives to file\n",
    "    with open(file_neg + '.fasta', 'w') as f:\n",
    "        for i, seq in enumerate(negative_sequences):\n",
    "            print('>header', i+1, file=f)\n",
    "            print(seq, file=f)"
   ]
  },
  {
   "cell_type": "markdown",
   "metadata": {},
   "source": [
    "#### generate dataset"
   ]
  },
  {
   "cell_type": "code",
   "execution_count": 6,
   "metadata": {},
   "outputs": [],
   "source": [
    "write_seqs_fastq(*generate_sequences(150000), 'positives_toy', 'negatives_toy')"
   ]
  },
  {
   "cell_type": "code",
   "execution_count": 9,
   "metadata": {},
   "outputs": [],
   "source": [
    "_ = generate_sequences(no_sequences)"
   ]
  },
  {
   "cell_type": "code",
   "execution_count": 12,
   "metadata": {},
   "outputs": [],
   "source": [
    "distance_pairs = np.array(distance_pairs)"
   ]
  },
  {
   "cell_type": "code",
   "execution_count": 19,
   "metadata": {},
   "outputs": [
    {
     "data": {
      "text/plain": [
       "(array([2572., 1911., 1992., 1878., 1881., 1728., 1512., 1018.,  427.,\n",
       "          81.]),\n",
       " array([ 0. ,  3.1,  6.2,  9.3, 12.4, 15.5, 18.6, 21.7, 24.8, 27.9, 31. ]),\n",
       " <a list of 10 Patch objects>)"
      ]
     },
     "execution_count": 19,
     "metadata": {},
     "output_type": "execute_result"
    },
    {
     "data": {
      "image/png": "[encoded data removed]",
      "text/plain": [
       "<Figure size 432x288 with 1 Axes>"
      ]
     },
     "metadata": {
      "needs_background": "light"
     },
     "output_type": "display_data"
    }
   ],
   "source": [
    "from matplotlib import pyplot as plt\n",
    "plt.hist(distance_pairs[:,1], alpha=0.6)\n",
    "plt.hist(distance_pairs[:,0], alpha=0.6)"
   ]
  },
  {
   "cell_type": "code",
   "execution_count": 47,
   "metadata": {},
   "outputs": [],
   "source": [
    "distance_pairs = []\n",
    "_ = generate_sequences(200000)\n",
    "distance_pairs = np.array(distance_pairs)"
   ]
  },
  {
   "cell_type": "code",
   "execution_count": 48,
   "metadata": {},
   "outputs": [
    {
     "data": {
      "text/plain": [
       "(array([2.4000e+01, 2.0300e+02, 9.1300e+02, 2.4580e+03, 5.2050e+03,\n",
       "        9.2750e+03, 1.3779e+04, 1.8014e+04, 2.1143e+04, 2.2772e+04,\n",
       "        2.2430e+04, 2.0274e+04, 1.7600e+04, 1.3982e+04, 1.0617e+04,\n",
       "        7.6270e+03, 5.1290e+03, 3.3690e+03, 2.1580e+03, 1.3000e+03,\n",
       "        7.6800e+02, 4.4500e+02, 2.3800e+02, 1.3100e+02, 7.3000e+01,\n",
       "        3.5000e+01, 2.4000e+01, 6.0000e+00, 6.0000e+00]),\n",
       " array([ 0,  1,  2,  3,  4,  5,  6,  7,  8,  9, 10, 11, 12, 13, 14, 15, 16,\n",
       "        17, 18, 19, 20, 21, 22, 23, 24, 25, 26, 27, 28, 29]),\n",
       " <a list of 29 Patch objects>)"
      ]
     },
     "execution_count": 48,
     "metadata": {},
     "output_type": "execute_result"
    },
    {
     "data": {
      "image/png": "[encoded data removed]",
      "text/plain": [
       "<Figure size 432x288 with 1 Axes>"
      ]
     },
     "metadata": {
      "needs_background": "light"
     },
     "output_type": "display_data"
    }
   ],
   "source": [
    "plt.close()\n",
    "plt.hist(distance_pairs[:,1]-distance_pairs[:,0], bins=np.arange(30), alpha=0.6, color='r')\n",
    "plt.hist(np.random.negative_binomial(r, p, 200000), bins=np.arange(30),alpha=0.6, color='b')"
   ]
  },
  {
   "cell_type": "code",
   "execution_count": 51,
   "metadata": {},
   "outputs": [],
   "source": [
    "from scipy.stats import nbinom"
   ]
  },
  {
   "cell_type": "code",
   "execution_count": 63,
   "metadata": {},
   "outputs": [
    {
     "data": {
      "text/plain": [
       "(0, 2503.6000000000004)"
      ]
     },
     "execution_count": 63,
     "metadata": {},
     "output_type": "execute_result"
    },
    {
     "data": {
      "image/png": "[encoded data removed]",
      "text/plain": [
       "<Figure size 432x288 with 2 Axes>"
      ]
     },
     "metadata": {
      "needs_background": "light"
     },
     "output_type": "display_data"
    }
   ],
   "source": [
    "fig, ax = plt.subplots(figsize=(6,4))\n",
    "xrange = 30\n",
    "xx = np.arange(xrange)\n",
    "    \n",
    "ax.plot(xx, nbinom.pmf(xx, r, p), color='red')\n",
    "ax.set_xlabel('distance')\n",
    "\n",
    "ax2 = ax.twinx()\n",
    "bincounts = np.bincount(np.random.negative_binomial(r, p, 20000))\n",
    "ax2.bar(np.arange(len(bincounts)), bincounts, width=1,alpha=0.6, color='b')\n",
    "\n",
    "ax.set_ylim(0,max(nbinom.pmf(xx, r, p))*1.1)\n",
    "ax2.set_ylim(0,max(bincounts)*1.1)"
   ]
  },
  {
   "cell_type": "code",
   "execution_count": 61,
   "metadata": {},
   "outputs": [
    {
     "data": {
      "text/plain": [
       "<BarContainer object of 27 artists>"
      ]
     },
     "execution_count": 61,
     "metadata": {},
     "output_type": "execute_result"
    },
    {
     "data": {
      "image/png": "[encoded data removed]",
      "text/plain": [
       "<Figure size 432x288 with 1 Axes>"
      ]
     },
     "metadata": {
      "needs_background": "light"
     },
     "output_type": "display_data"
    }
   ],
   "source": [
    "bincounts = np.bincount(np.random.negative_binomial(r, p, 20000))\n",
    "plt.bar(np.arange(len(bincounts)), bincounts, width=1)"
   ]
  },
  {
   "cell_type": "code",
   "execution_count": null,
   "metadata": {},
   "outputs": [],
   "source": []
  }
 ],
 "metadata": {
  "kernelspec": {
   "display_name": "Python [conda env:rbp_motif]",
   "language": "python",
   "name": "conda-env-rbp_motif-py"
  },
  "language_info": {
   "codemirror_mode": {
    "name": "ipython",
    "version": 3
   },
   "file_extension": ".py",
   "mimetype": "text/x-python",
   "name": "python",
   "nbconvert_exporter": "python",
   "pygments_lexer": "ipython3",
   "version": "3.6.7"
  }
 },
 "nbformat": 4,
 "nbformat_minor": 4
}
