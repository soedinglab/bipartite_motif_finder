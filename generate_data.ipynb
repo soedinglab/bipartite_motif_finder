{
 "cells": [
  {
   "cell_type": "markdown",
   "metadata": {},
   "source": [
    "## Generate artificial data with implanted motifs"
   ]
  },
  {
   "cell_type": "code",
   "execution_count": 7,
   "metadata": {},
   "outputs": [],
   "source": [
    "import numpy as np\n",
    "import os\n",
    "import pandas as pd\n",
    "from Bio import SeqIO\n",
    "import random"
   ]
  },
  {
   "cell_type": "markdown",
   "metadata": {},
   "source": [
    "#### set motif parameters"
   ]
  },
  {
   "cell_type": "code",
   "execution_count": 8,
   "metadata": {},
   "outputs": [],
   "source": [
    "append = True\n",
    "core1 = ['CCC']\n",
    "core2 = ['GGG']\n",
    "l = 3\n",
    "d = 5\n",
    "sig = 1\n",
    "alphabet = ['A','C','G','T']\n",
    "#alphabet2 = ['A']\n",
    "seq_length = 30\n",
    "no_sequences = 1000  #positive and negative\n",
    "no_motifs = 1000"
   ]
  },
  {
   "cell_type": "markdown",
   "metadata": {},
   "source": [
    "#### generate sequences"
   ]
  },
  {
   "cell_type": "code",
   "execution_count": 9,
   "metadata": {},
   "outputs": [],
   "source": [
    "#generate random sequences \n",
    "positive_sequences = [''.join([random.choice(alphabet) for i in range(seq_length)]) for j in range(no_sequences)]\n",
    "negative_sequences = [''.join([random.choice(alphabet) for i in range(seq_length)]) for j in range(no_sequences)]"
   ]
  },
  {
   "cell_type": "code",
   "execution_count": 10,
   "metadata": {},
   "outputs": [],
   "source": [
    "#assume on e motif per sequence\n",
    "seqs_to_insert = random.sample(range(no_sequences),no_motifs) #select sequences for motif insertion\n",
    "\n",
    "for i in seqs_to_insert:\n",
    "    seq = positive_sequences[i]\n",
    "    \n",
    "    ins = random.choice(range(seq_length))  #insertion position\n",
    "    dist = int(np.random.normal(d, sig, 1)[0])  #motif distances\n",
    "    c1 = random.choice(core1)    #select core 1 \n",
    "    c2 = random.choice(core2)    #select core 2\n",
    "\n",
    "    seq = list(seq)   #convert to list for indexing\n",
    "    for pos in range(len(c1)):  #insert core 1\n",
    "        if pos + ins < len(seq):\n",
    "            seq[pos+ins] = c1[pos]\n",
    "\n",
    "    for pos in range(len(c2)):   #insert core 2\n",
    "        if pos + ins + dist + len(c1) < len(seq):\n",
    "            seq[pos+ins+dist+len(c1)] = c2[pos]\n",
    "\n",
    "    seq = ''.join(seq)\n",
    "    \n",
    "    positive_sequences[i] = seq"
   ]
  },
  {
   "cell_type": "markdown",
   "metadata": {},
   "source": [
    "#### save sequences as fasta files"
   ]
  },
  {
   "cell_type": "code",
   "execution_count": 11,
   "metadata": {},
   "outputs": [],
   "source": [
    "file_pos = 'positives_toy.fasta'\n",
    "file_neg = 'negatives_toy.fasta'"
   ]
  },
  {
   "cell_type": "code",
   "execution_count": 12,
   "metadata": {},
   "outputs": [],
   "source": [
    "#write positives to file\n",
    "with open(file_pos, 'a' if append else 'w') as f:\n",
    "    for i, seq in enumerate(positive_sequences):\n",
    "        print('> header', i+1, file=f)\n",
    "        print(seq, file=f)\n",
    "\n",
    "#write negatives to file\n",
    "with open(file_neg, 'a' if append else 'w') as f:\n",
    "    for i, seq in enumerate(negative_sequences):\n",
    "        print('> header', i+1, file=f)\n",
    "        print(seq, file=f)"
   ]
  },
  {
   "cell_type": "code",
   "execution_count": null,
   "metadata": {},
   "outputs": [],
   "source": []
  },
  {
   "cell_type": "code",
   "execution_count": null,
   "metadata": {},
   "outputs": [],
   "source": []
  }
 ],
 "metadata": {
  "kernelspec": {
   "display_name": "Python [conda env:rbp_motif]",
   "language": "python",
   "name": "conda-env-rbp_motif-py"
  },
  "language_info": {
   "codemirror_mode": {
    "name": "ipython",
    "version": 3
   },
   "file_extension": ".py",
   "mimetype": "text/x-python",
   "name": "python",
   "nbconvert_exporter": "python",
   "pygments_lexer": "ipython3",
   "version": "3.6.7"
  }
 },
 "nbformat": 4,
 "nbformat_minor": 2
}
