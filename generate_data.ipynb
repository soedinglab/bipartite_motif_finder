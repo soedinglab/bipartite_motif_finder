{
 "cells": [
  {
   "cell_type": "markdown",
   "metadata": {},
   "source": [
    "## Generate artificial data with implanted motifs"
   ]
  },
  {
   "cell_type": "code",
   "execution_count": 1,
   "metadata": {},
   "outputs": [],
   "source": [
    "import numpy as np\n",
    "import os\n",
    "import pandas as pd\n",
    "from Bio import SeqIO\n",
    "import random\n",
    "import itertools"
   ]
  },
  {
   "cell_type": "markdown",
   "metadata": {},
   "source": [
    "#### set motif parameters"
   ]
  },
  {
   "cell_type": "code",
   "execution_count": 2,
   "metadata": {},
   "outputs": [],
   "source": [
    "append = False\n",
    "\n",
    "alphabet = ['A','C','G','T']\n",
    "random_3mers = [''.join(p) for p in itertools.product(alphabet, repeat=3)]\n",
    "\n",
    "core1 = ['TAG']\n",
    "core2 = ['ACT']\n",
    "l = 3\n",
    "r = 40\n",
    "p = 0.8\n",
    "\n",
    "#alphabet2 = ['A']\n",
    "seq_length = 40\n",
    "no_sequences = 15000  #positive and negative\n",
    "ratio_with_motif = 1"
   ]
  },
  {
   "cell_type": "markdown",
   "metadata": {},
   "source": [
    "#### generate sequences"
   ]
  },
  {
   "cell_type": "code",
   "execution_count": 3,
   "metadata": {},
   "outputs": [],
   "source": [
    "def generate_sequences(no_sequences):\n",
    "    no_motifs = int(no_sequences*ratio_with_motif)\n",
    "    #generate random sequences \n",
    "    positive_sequences = [''.join([random.choice(alphabet) for i in range(seq_length)]) for j in range(no_sequences)]\n",
    "    negative_sequences = [''.join([random.choice(alphabet) for i in range(seq_length)]) for j in range(no_sequences)]\n",
    "\n",
    "    #assume one motif per sequence\n",
    "    seqs_to_insert = random.sample(range(no_sequences),no_motifs) #select sequences for motif insertion\n",
    "\n",
    "    for i in seqs_to_insert:\n",
    "        seq = positive_sequences[i]\n",
    "\n",
    "        dist = np.random.negative_binomial(r, p, 1)[0]  #motif distances\n",
    "        ins = random.choice(range(0, max(1,seq_length-l*2-dist)))  #insertion position\n",
    "        c1 = random.choice(core1)    #select core 1 \n",
    "        c2 = random.choice(core2)    #select core 2\n",
    "\n",
    "        seq = list(seq)   #convert to list for indexing\n",
    "        for pos in range(len(c1)):  #insert core 1\n",
    "            if pos + ins < len(seq):\n",
    "                seq[pos+ins] = c1[pos]\n",
    "\n",
    "        for pos in range(len(c2)):   #insert core 2\n",
    "            if pos + ins + dist + len(c1) < len(seq):\n",
    "                seq[pos+ins+dist+len(c1)] = c2[pos]\n",
    "\n",
    "        seq = ''.join(seq)\n",
    "\n",
    "        positive_sequences[i] = seq\n",
    "    \n",
    "    return positive_sequences, negative_sequences"
   ]
  },
  {
   "cell_type": "markdown",
   "metadata": {},
   "source": [
    "#### save sequences as fasta or fastq files"
   ]
  },
  {
   "cell_type": "code",
   "execution_count": 4,
   "metadata": {},
   "outputs": [],
   "source": [
    "def write_seqs(positive_sequences, negative_sequences, file_pos, file_neg):\n",
    "    #write positives to file\n",
    "    with open(file_pos, 'a' if append else 'w') as f:\n",
    "        for i, seq in enumerate(positive_sequences):\n",
    "            print('> header', i+1, file=f)\n",
    "            print(seq, file=f)\n",
    "\n",
    "    #write negatives to file\n",
    "    with open(file_neg, 'w') as f:\n",
    "        for i, seq in enumerate(negative_sequences):\n",
    "            print('> header', i+1, file=f)\n",
    "            print(seq, file=f)"
   ]
  },
  {
   "cell_type": "code",
   "execution_count": 5,
   "metadata": {},
   "outputs": [],
   "source": [
    "def write_seqs_fastq(positive_sequences, negative_sequences, file_pos, file_neg):\n",
    "    #write positives to file\n",
    "    with open(file_pos + '.fastq', 'a' if append else 'w') as f:\n",
    "        for i, seq in enumerate(positive_sequences):\n",
    "            print('@header', i+1, file=f)\n",
    "            print(seq, file=f)\n",
    "            print('+', file=f)\n",
    "            print(''.join(['~']*len(seq)), file=f)\n",
    "\n",
    "    #write negatives to file\n",
    "    with open(file_neg + '.fastq', 'w') as f:\n",
    "        for i, seq in enumerate(negative_sequences):\n",
    "            print('@header', i+1, file=f)\n",
    "            print(seq, file=f)\n",
    "            print('+', file=f)\n",
    "            print(''.join(['~']*len(seq)), file=f)\n",
    "            \n",
    "def write_seqs_fasta(positive_sequences, negative_sequences, file_pos, file_neg):\n",
    "    #write positives to file\n",
    "    with open(file_pos + '.fasta', 'a' if append else 'w') as f:\n",
    "        for i, seq in enumerate(positive_sequences):\n",
    "            print('>header', i+1, file=f)\n",
    "            print(seq, file=f)\n",
    "\n",
    "    #write negatives to file\n",
    "    with open(file_neg + '.fasta', 'w') as f:\n",
    "        for i, seq in enumerate(negative_sequences):\n",
    "            print('>header', i+1, file=f)\n",
    "            print(seq, file=f)"
   ]
  },
  {
   "cell_type": "markdown",
   "metadata": {},
   "source": [
    "#### generate dataset"
   ]
  },
  {
   "cell_type": "code",
   "execution_count": 6,
   "metadata": {},
   "outputs": [],
   "source": [
    "write_seqs_fastq(*generate_sequences(no_sequences), 'positives_toy', 'negatives_toy')"
   ]
  }
 ],
 "metadata": {
  "kernelspec": {
   "display_name": "Python [conda env:rbp_motif]",
   "language": "python",
   "name": "conda-env-rbp_motif-py"
  },
  "language_info": {
   "codemirror_mode": {
    "name": "ipython",
    "version": 3
   },
   "file_extension": ".py",
   "mimetype": "text/x-python",
   "name": "python",
   "nbconvert_exporter": "python",
   "pygments_lexer": "ipython3",
   "version": "3.6.7"
  }
 },
 "nbformat": 4,
 "nbformat_minor": 4
}
